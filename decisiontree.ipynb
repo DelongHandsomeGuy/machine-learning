{
 "cells": [
  {
   "cell_type": "code",
   "execution_count": 1,
   "id": "cd4967c2",
   "metadata": {},
   "outputs": [],
   "source": [
    "import numpy as np\n",
    "import pandas as pd\n",
    "from sklearn.preprocessing import StandardScaler\n",
    "from sklearn.preprocessing import LabelEncoder\n",
    "from sklearn.tree import DecisionTreeClassifier\n",
    "from sklearn.model_selection import train_test_split\n",
    "from sklearn.tree import plot_tree\n",
    "from sklearn.metrics import accuracy_score\n",
    "import matplotlib.pyplot as plt"
   ]
  },
  {
   "cell_type": "code",
   "execution_count": 2,
   "id": "5bd009f9",
   "metadata": {},
   "outputs": [
    {
     "data": {
      "text/html": [
       "<div>\n",
       "<style scoped>\n",
       "    .dataframe tbody tr th:only-of-type {\n",
       "        vertical-align: middle;\n",
       "    }\n",
       "\n",
       "    .dataframe tbody tr th {\n",
       "        vertical-align: top;\n",
       "    }\n",
       "\n",
       "    .dataframe thead th {\n",
       "        text-align: right;\n",
       "    }\n",
       "</style>\n",
       "<table border=\"1\" class=\"dataframe\">\n",
       "  <thead>\n",
       "    <tr style=\"text-align: right;\">\n",
       "      <th></th>\n",
       "      <th>age</th>\n",
       "      <th>workclass</th>\n",
       "      <th>fnlwgt</th>\n",
       "      <th>education</th>\n",
       "      <th>educational-num</th>\n",
       "      <th>marital-status</th>\n",
       "      <th>occupation</th>\n",
       "      <th>relationship</th>\n",
       "      <th>race</th>\n",
       "      <th>gender</th>\n",
       "      <th>capital-gain</th>\n",
       "      <th>capital-loss</th>\n",
       "      <th>hours-per-week</th>\n",
       "      <th>native-country</th>\n",
       "      <th>income</th>\n",
       "    </tr>\n",
       "  </thead>\n",
       "  <tbody>\n",
       "    <tr>\n",
       "      <th>0</th>\n",
       "      <td>39</td>\n",
       "      <td>State-gov</td>\n",
       "      <td>77516</td>\n",
       "      <td>Bachelors</td>\n",
       "      <td>13</td>\n",
       "      <td>Never-married</td>\n",
       "      <td>Adm-clerical</td>\n",
       "      <td>Not-in-family</td>\n",
       "      <td>White</td>\n",
       "      <td>Male</td>\n",
       "      <td>2174</td>\n",
       "      <td>0</td>\n",
       "      <td>40</td>\n",
       "      <td>United-States</td>\n",
       "      <td>&lt;=50K</td>\n",
       "    </tr>\n",
       "    <tr>\n",
       "      <th>1</th>\n",
       "      <td>50</td>\n",
       "      <td>Self-emp-not-inc</td>\n",
       "      <td>83311</td>\n",
       "      <td>Bachelors</td>\n",
       "      <td>13</td>\n",
       "      <td>Married-civ-spouse</td>\n",
       "      <td>Exec-managerial</td>\n",
       "      <td>Husband</td>\n",
       "      <td>White</td>\n",
       "      <td>Male</td>\n",
       "      <td>0</td>\n",
       "      <td>0</td>\n",
       "      <td>13</td>\n",
       "      <td>United-States</td>\n",
       "      <td>&lt;=50K</td>\n",
       "    </tr>\n",
       "    <tr>\n",
       "      <th>2</th>\n",
       "      <td>38</td>\n",
       "      <td>Private</td>\n",
       "      <td>215646</td>\n",
       "      <td>HS-grad</td>\n",
       "      <td>9</td>\n",
       "      <td>Divorced</td>\n",
       "      <td>Handlers-cleaners</td>\n",
       "      <td>Not-in-family</td>\n",
       "      <td>White</td>\n",
       "      <td>Male</td>\n",
       "      <td>0</td>\n",
       "      <td>0</td>\n",
       "      <td>40</td>\n",
       "      <td>United-States</td>\n",
       "      <td>&lt;=50K</td>\n",
       "    </tr>\n",
       "  </tbody>\n",
       "</table>\n",
       "</div>"
      ],
      "text/plain": [
       "   age          workclass  fnlwgt   education  educational-num  \\\n",
       "0   39          State-gov   77516   Bachelors               13   \n",
       "1   50   Self-emp-not-inc   83311   Bachelors               13   \n",
       "2   38            Private  215646     HS-grad                9   \n",
       "\n",
       "        marital-status          occupation    relationship    race gender  \\\n",
       "0        Never-married        Adm-clerical   Not-in-family   White   Male   \n",
       "1   Married-civ-spouse     Exec-managerial         Husband   White   Male   \n",
       "2             Divorced   Handlers-cleaners   Not-in-family   White   Male   \n",
       "\n",
       "   capital-gain  capital-loss  hours-per-week  native-country  income  \n",
       "0          2174             0              40   United-States   <=50K  \n",
       "1             0             0              13   United-States   <=50K  \n",
       "2             0             0              40   United-States   <=50K  "
      ]
     },
     "execution_count": 2,
     "metadata": {},
     "output_type": "execute_result"
    }
   ],
   "source": [
    "# read data and add column names\n",
    "data=pd.read_csv(\"./adult.data\",header=None)\n",
    "data.columns=['age', 'workclass', 'fnlwgt', 'education', 'educational-num','marital-status', 'occupation', 'relationship', 'race', 'gender',\n",
    "       'capital-gain', 'capital-loss', 'hours-per-week', 'native-country','income']\n",
    "data.head(3)"
   ]
  },
  {
   "cell_type": "code",
   "execution_count": 3,
   "id": "198f9145",
   "metadata": {},
   "outputs": [
    {
     "name": "stdout",
     "output_type": "stream",
     "text": [
      "<class 'pandas.core.frame.DataFrame'>\n",
      "RangeIndex: 32561 entries, 0 to 32560\n",
      "Data columns (total 15 columns):\n",
      " #   Column           Non-Null Count  Dtype \n",
      "---  ------           --------------  ----- \n",
      " 0   age              32561 non-null  int64 \n",
      " 1   workclass        32561 non-null  object\n",
      " 2   fnlwgt           32561 non-null  int64 \n",
      " 3   education        32561 non-null  object\n",
      " 4   educational-num  32561 non-null  int64 \n",
      " 5   marital-status   32561 non-null  object\n",
      " 6   occupation       32561 non-null  object\n",
      " 7   relationship     32561 non-null  object\n",
      " 8   race             32561 non-null  object\n",
      " 9   gender           32561 non-null  object\n",
      " 10  capital-gain     32561 non-null  int64 \n",
      " 11  capital-loss     32561 non-null  int64 \n",
      " 12  hours-per-week   32561 non-null  int64 \n",
      " 13  native-country   32561 non-null  object\n",
      " 14  income           32561 non-null  object\n",
      "dtypes: int64(6), object(9)\n",
      "memory usage: 3.7+ MB\n"
     ]
    }
   ],
   "source": [
    "data.info()"
   ]
  },
  {
   "cell_type": "code",
   "execution_count": 4,
   "id": "ca8c9749",
   "metadata": {},
   "outputs": [
    {
     "data": {
      "text/plain": [
       "age                False\n",
       "workclass          False\n",
       "fnlwgt             False\n",
       "education          False\n",
       "educational-num    False\n",
       "marital-status     False\n",
       "occupation         False\n",
       "relationship       False\n",
       "race               False\n",
       "gender             False\n",
       "capital-gain       False\n",
       "capital-loss       False\n",
       "hours-per-week     False\n",
       "native-country     False\n",
       "income             False\n",
       "dtype: bool"
      ]
     },
     "execution_count": 4,
     "metadata": {},
     "output_type": "execute_result"
    }
   ],
   "source": [
    "# check for null values\n",
    "data.isnull().any()"
   ]
  },
  {
   "cell_type": "code",
   "execution_count": 5,
   "id": "a3372c2f",
   "metadata": {},
   "outputs": [
    {
     "name": "stdout",
     "output_type": "stream",
     "text": [
      "<class 'pandas.core.frame.DataFrame'>\n",
      "Int64Index: 30162 entries, 0 to 32560\n",
      "Data columns (total 15 columns):\n",
      " #   Column           Non-Null Count  Dtype \n",
      "---  ------           --------------  ----- \n",
      " 0   age              30162 non-null  int64 \n",
      " 1   workclass        30162 non-null  object\n",
      " 2   fnlwgt           30162 non-null  int64 \n",
      " 3   education        30162 non-null  object\n",
      " 4   educational-num  30162 non-null  int64 \n",
      " 5   marital-status   30162 non-null  object\n",
      " 6   occupation       30162 non-null  object\n",
      " 7   relationship     30162 non-null  object\n",
      " 8   race             30162 non-null  object\n",
      " 9   gender           30162 non-null  object\n",
      " 10  capital-gain     30162 non-null  int64 \n",
      " 11  capital-loss     30162 non-null  int64 \n",
      " 12  hours-per-week   30162 non-null  int64 \n",
      " 13  native-country   30162 non-null  object\n",
      " 14  income           30162 non-null  object\n",
      "dtypes: int64(6), object(9)\n",
      "memory usage: 3.7+ MB\n"
     ]
    }
   ],
   "source": [
    "# delete lines with '?'\n",
    "data.replace(' ?', np.nan,inplace=True)\n",
    "data.dropna(inplace=True)\n",
    "data.info()"
   ]
  },
  {
   "cell_type": "code",
   "execution_count": 6,
   "id": "8decccee",
   "metadata": {},
   "outputs": [
    {
     "name": "stdout",
     "output_type": "stream",
     "text": [
      "Before removing duplicates: 23\n",
      "After removing duplicates: 0\n"
     ]
    }
   ],
   "source": [
    "# remove duplicate rows\n",
    "print(\"Before removing duplicates:\", data.duplicated().sum())\n",
    "data = data[~data.duplicated()]\n",
    "print(\"After removing duplicates:\", data.duplicated().sum())"
   ]
  },
  {
   "cell_type": "code",
   "execution_count": 7,
   "id": "dbafbaf6",
   "metadata": {},
   "outputs": [
    {
     "name": "stdout",
     "output_type": "stream",
     "text": [
      "<class 'pandas.core.frame.DataFrame'>\n",
      "Int64Index: 30139 entries, 0 to 32560\n",
      "Data columns (total 15 columns):\n",
      " #   Column           Non-Null Count  Dtype \n",
      "---  ------           --------------  ----- \n",
      " 0   age              30139 non-null  int64 \n",
      " 1   workclass        30139 non-null  object\n",
      " 2   fnlwgt           30139 non-null  int64 \n",
      " 3   education        30139 non-null  object\n",
      " 4   educational-num  30139 non-null  int64 \n",
      " 5   marital-status   30139 non-null  object\n",
      " 6   occupation       30139 non-null  object\n",
      " 7   relationship     30139 non-null  object\n",
      " 8   race             30139 non-null  object\n",
      " 9   gender           30139 non-null  object\n",
      " 10  capital-gain     30139 non-null  int64 \n",
      " 11  capital-loss     30139 non-null  int64 \n",
      " 12  hours-per-week   30139 non-null  int64 \n",
      " 13  native-country   30139 non-null  object\n",
      " 14  income           30139 non-null  object\n",
      "dtypes: int64(6), object(9)\n",
      "memory usage: 3.7+ MB\n"
     ]
    }
   ],
   "source": [
    "data.info()"
   ]
  },
  {
   "cell_type": "code",
   "execution_count": 8,
   "id": "16d05466",
   "metadata": {},
   "outputs": [
    {
     "data": {
      "text/plain": [
       " <=50K    22633\n",
       " >50K      7506\n",
       "Name: income, dtype: int64"
      ]
     },
     "execution_count": 8,
     "metadata": {},
     "output_type": "execute_result"
    }
   ],
   "source": [
    "data['income'].value_counts()"
   ]
  },
  {
   "cell_type": "code",
   "execution_count": 9,
   "id": "7633d959",
   "metadata": {},
   "outputs": [
    {
     "name": "stdout",
     "output_type": "stream",
     "text": [
      "<class 'pandas.core.frame.DataFrame'>\n",
      "Int64Index: 30139 entries, 0 to 32560\n",
      "Data columns (total 15 columns):\n",
      " #   Column           Non-Null Count  Dtype  \n",
      "---  ------           --------------  -----  \n",
      " 0   age              30139 non-null  float64\n",
      " 1   workclass        30139 non-null  object \n",
      " 2   fnlwgt           30139 non-null  float64\n",
      " 3   education        30139 non-null  object \n",
      " 4   educational-num  30139 non-null  float64\n",
      " 5   marital-status   30139 non-null  object \n",
      " 6   occupation       30139 non-null  object \n",
      " 7   relationship     30139 non-null  object \n",
      " 8   race             30139 non-null  object \n",
      " 9   gender           30139 non-null  object \n",
      " 10  capital-gain     30139 non-null  float64\n",
      " 11  capital-loss     30139 non-null  float64\n",
      " 12  hours-per-week   30139 non-null  float64\n",
      " 13  native-country   30139 non-null  object \n",
      " 14  income           30139 non-null  object \n",
      "dtypes: float64(6), object(9)\n",
      "memory usage: 3.7+ MB\n"
     ]
    }
   ],
   "source": [
    "# apply data normalisation to int64 variables\n",
    "from sklearn.preprocessing import StandardScaler\n",
    "numeric_cols = ['age', 'fnlwgt', 'educational-num', 'capital-gain', 'capital-loss', 'hours-per-week']\n",
    "scaler = StandardScaler()\n",
    "for col in numeric_cols:\n",
    "    data[col] = scaler.fit_transform(data[[col]])\n",
    "data.info()"
   ]
  },
  {
   "cell_type": "code",
   "execution_count": 10,
   "id": "93280113",
   "metadata": {},
   "outputs": [
    {
     "name": "stdout",
     "output_type": "stream",
     "text": [
      "<class 'pandas.core.frame.DataFrame'>\n",
      "Int64Index: 30139 entries, 0 to 32560\n",
      "Data columns (total 15 columns):\n",
      " #   Column           Non-Null Count  Dtype  \n",
      "---  ------           --------------  -----  \n",
      " 0   age              30139 non-null  float64\n",
      " 1   workclass        30139 non-null  int32  \n",
      " 2   fnlwgt           30139 non-null  float64\n",
      " 3   education        30139 non-null  int32  \n",
      " 4   educational-num  30139 non-null  float64\n",
      " 5   marital-status   30139 non-null  int32  \n",
      " 6   occupation       30139 non-null  int32  \n",
      " 7   relationship     30139 non-null  int32  \n",
      " 8   race             30139 non-null  int32  \n",
      " 9   gender           30139 non-null  int32  \n",
      " 10  capital-gain     30139 non-null  float64\n",
      " 11  capital-loss     30139 non-null  float64\n",
      " 12  hours-per-week   30139 non-null  float64\n",
      " 13  native-country   30139 non-null  int32  \n",
      " 14  income           30139 non-null  int32  \n",
      "dtypes: float64(6), int32(9)\n",
      "memory usage: 2.6 MB\n"
     ]
    }
   ],
   "source": [
    "# encoding of integer values for object categories\n",
    "class_le = LabelEncoder()\n",
    "cat_cols = ['workclass', 'education', 'marital-status', 'occupation', 'relationship', 'race', 'gender', 'native-country', 'income']\n",
    "for col in cat_cols:\n",
    "    data[col] = class_le.fit_transform(data[col].values)\n",
    "data.info()"
   ]
  },
  {
   "cell_type": "code",
   "execution_count": 11,
   "id": "bee0529a",
   "metadata": {},
   "outputs": [],
   "source": [
    "# split the data into features and target\n",
    "features = data.drop('income', axis=1)\n",
    "target = data['income']"
   ]
  },
  {
   "cell_type": "code",
   "execution_count": 12,
   "id": "fdef144c",
   "metadata": {},
   "outputs": [],
   "source": [
    "# split the data into training and testing sets\n",
    "features_train, features_test, target_train, target_test = train_test_split(features, target, test_size=0.3)"
   ]
  },
  {
   "cell_type": "code",
   "execution_count": 13,
   "id": "28bdbfa0",
   "metadata": {},
   "outputs": [
    {
     "data": {
      "text/plain": [
       "0.8404114134041142"
      ]
     },
     "execution_count": 13,
     "metadata": {},
     "output_type": "execute_result"
    },
    {
     "data": {
      "image/png": "[encoded data removed]",
      "text/plain": [
       "<Figure size 640x480 with 1 Axes>"
      ]
     },
     "metadata": {},
     "output_type": "display_data"
    }
   ],
   "source": [
    "# do a test（train the decision tree model and evaluate the model on the test data）\n",
    "tree_clf = DecisionTreeClassifier(criterion='gini', max_depth=4)\n",
    "tree_clf.fit(features_train, target_train)\n",
    "plot_tree(tree_clf)\n",
    "accuracy = tree_clf.score(features_test, target_test)\n",
    "accuracy"
   ]
  },
  {
   "cell_type": "code",
   "execution_count": 14,
   "id": "a06150d1",
   "metadata": {},
   "outputs": [
    {
     "data": {
      "image/png": "[encoded data removed]",
      "text/plain": [
       "<Figure size 640x480 with 1 Axes>"
      ]
     },
     "metadata": {},
     "output_type": "display_data"
    },
    {
     "data": {
      "text/plain": [
       "0.8481530634815306"
      ]
     },
     "execution_count": 14,
     "metadata": {},
     "output_type": "execute_result"
    }
   ],
   "source": [
    "# find the maximum accuracy when using the 'entropy' method\n",
    "test_entropy = []\n",
    "for i in range(14):\n",
    "    tree_clf = DecisionTreeClassifier(criterion='entropy',  \n",
    "                                      min_samples_leaf=2,\n",
    "                                      max_depth=i+1)\n",
    "    tree_clf = tree_clf.fit(features_train, target_train)\n",
    "    score = tree_clf.score(features_test, target_test)\n",
    "    test_entropy.append(score)\n",
    "plt.plot([1,2,3,4,5,6,7,8,9,10,11,12,13,14], test_entropy, color='red')\n",
    "plt.xlabel('max_depth')\n",
    "plt.ylabel('score')\n",
    "plt.show()\n",
    "max(test_entropy)"
   ]
  },
  {
   "cell_type": "code",
   "execution_count": 15,
   "id": "4994ea6e",
   "metadata": {},
   "outputs": [
    {
     "data": {
      "image/png": "[encoded data removed]",
      "text/plain": [
       "<Figure size 640x480 with 1 Axes>"
      ]
     },
     "metadata": {},
     "output_type": "display_data"
    },
    {
     "data": {
      "text/plain": [
       "0.8487060384870604"
      ]
     },
     "execution_count": 15,
     "metadata": {},
     "output_type": "execute_result"
    }
   ],
   "source": [
    "# # find the maximum accuracy when using the 'gini' method\n",
    "test_gini = []\n",
    "for i in range(14):\n",
    "    tree_clf = DecisionTreeClassifier(criterion='gini',  \n",
    "                                      min_samples_leaf=2,\n",
    "                                      max_depth=i+1)\n",
    "    tree_clf = tree_clf.fit(features_train, target_train)\n",
    "    score = tree_clf.score(features_test, target_test)\n",
    "    test_gini.append(score)\n",
    "plt.plot([1,2,3,4,5,6,7,8,9,10,11,12,13,14], test_entropy, color='red')\n",
    "plt.xlabel('max_depth')\n",
    "plt.ylabel('score')\n",
    "plt.show()\n",
    "max(test_gini)"
   ]
  },
  {
   "cell_type": "code",
   "execution_count": 16,
   "id": "58460807",
   "metadata": {},
   "outputs": [
    {
     "data": {
      "text/plain": [
       "0.8487060384870604"
      ]
     },
     "execution_count": 16,
     "metadata": {},
     "output_type": "execute_result"
    }
   ],
   "source": [
    "# compare two methods for maximum accuracy\n",
    "test = test_entropy + test_gini\n",
    "accuracy = max(test)\n",
    "accuracy"
   ]
  },
  {
   "cell_type": "code",
   "execution_count": null,
   "id": "e4ebf513",
   "metadata": {},
   "outputs": [],
   "source": []
  },
  {
   "cell_type": "code",
   "execution_count": null,
   "id": "ebc640eb",
   "metadata": {},
   "outputs": [],
   "source": []
  }
 ],
 "metadata": {
  "kernelspec": {
   "display_name": "Python 3 (ipykernel)",
   "language": "python",
   "name": "python3"
  },
  "language_info": {
   "codemirror_mode": {
    "name": "ipython",
    "version": 3
   },
   "file_extension": ".py",
   "mimetype": "text/x-python",
   "name": "python",
   "nbconvert_exporter": "python",
   "pygments_lexer": "ipython3",
   "version": "3.10.4"
  }
 },
 "nbformat": 4,
 "nbformat_minor": 5
}
