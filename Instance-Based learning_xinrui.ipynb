{
 "cells": [
  {
   "cell_type": "markdown",
   "id": "e4214be0",
   "metadata": {},
   "source": [
    "In this notebook, there will be two section,  kNN with Census Income datasets. The analysis is to predict whether income exceeds $50K/yr based on census data."
   ]
  },
  {
   "cell_type": "markdown",
   "id": "5d68672b",
   "metadata": {},
   "source": [
    "Import datasets"
   ]
  },
  {
   "cell_type": "code",
   "execution_count": 1,
   "id": "cdfa942e",
   "metadata": {},
   "outputs": [],
   "source": [
    "import pandas as pd\n",
    "import numpy as np\n",
    "from matplotlib import pyplot as plt\n",
    "\n",
    "dataset_url = 'https://archive.ics.uci.edu/ml/machine-learning-databases/adult/adult.data'\n",
    "\n",
    "names = ['age', 'workclass', 'fnlwgt', 'education', 'education_num', 'marital-status', 'occupation',\n",
    "         'relationship', 'race', 'sex', 'capital-gain', 'capital-loss', 'hours-per-week', 'native-country', 'income']\n",
    "\n",
    "df = pd.read_csv(dataset_url, names=names)"
   ]
  },
  {
   "cell_type": "markdown",
   "id": "a943423f",
   "metadata": {},
   "source": [
    "Have a look of content."
   ]
  },
  {
   "cell_type": "code",
   "execution_count": 2,
   "id": "5aabd8aa",
   "metadata": {},
   "outputs": [
    {
     "data": {
      "text/plain": "   age          workclass  fnlwgt   education  education_num  \\\n0   39          State-gov   77516   Bachelors             13   \n1   50   Self-emp-not-inc   83311   Bachelors             13   \n2   38            Private  215646     HS-grad              9   \n3   53            Private  234721        11th              7   \n4   28            Private  338409   Bachelors             13   \n\n        marital-status          occupation    relationship    race      sex  \\\n0        Never-married        Adm-clerical   Not-in-family   White     Male   \n1   Married-civ-spouse     Exec-managerial         Husband   White     Male   \n2             Divorced   Handlers-cleaners   Not-in-family   White     Male   \n3   Married-civ-spouse   Handlers-cleaners         Husband   Black     Male   \n4   Married-civ-spouse      Prof-specialty            Wife   Black   Female   \n\n   capital-gain  capital-loss  hours-per-week  native-country  income  \n0          2174             0              40   United-States   <=50K  \n1             0             0              13   United-States   <=50K  \n2             0             0              40   United-States   <=50K  \n3             0             0              40   United-States   <=50K  \n4             0             0              40            Cuba   <=50K  ",
      "text/html": "<div>\n<style scoped>\n    .dataframe tbody tr th:only-of-type {\n        vertical-align: middle;\n    }\n\n    .dataframe tbody tr th {\n        vertical-align: top;\n    }\n\n    .dataframe thead th {\n        text-align: right;\n    }\n</style>\n<table border=\"1\" class=\"dataframe\">\n  <thead>\n    <tr style=\"text-align: right;\">\n      <th></th>\n      <th>age</th>\n      <th>workclass</th>\n      <th>fnlwgt</th>\n      <th>education</th>\n      <th>education_num</th>\n      <th>marital-status</th>\n      <th>occupation</th>\n      <th>relationship</th>\n      <th>race</th>\n      <th>sex</th>\n      <th>capital-gain</th>\n      <th>capital-loss</th>\n      <th>hours-per-week</th>\n      <th>native-country</th>\n      <th>income</th>\n    </tr>\n  </thead>\n  <tbody>\n    <tr>\n      <th>0</th>\n      <td>39</td>\n      <td>State-gov</td>\n      <td>77516</td>\n      <td>Bachelors</td>\n      <td>13</td>\n      <td>Never-married</td>\n      <td>Adm-clerical</td>\n      <td>Not-in-family</td>\n      <td>White</td>\n      <td>Male</td>\n      <td>2174</td>\n      <td>0</td>\n      <td>40</td>\n      <td>United-States</td>\n      <td>&lt;=50K</td>\n    </tr>\n    <tr>\n      <th>1</th>\n      <td>50</td>\n      <td>Self-emp-not-inc</td>\n      <td>83311</td>\n      <td>Bachelors</td>\n      <td>13</td>\n      <td>Married-civ-spouse</td>\n      <td>Exec-managerial</td>\n      <td>Husband</td>\n      <td>White</td>\n      <td>Male</td>\n      <td>0</td>\n      <td>0</td>\n      <td>13</td>\n      <td>United-States</td>\n      <td>&lt;=50K</td>\n    </tr>\n    <tr>\n      <th>2</th>\n      <td>38</td>\n      <td>Private</td>\n      <td>215646</td>\n      <td>HS-grad</td>\n      <td>9</td>\n      <td>Divorced</td>\n      <td>Handlers-cleaners</td>\n      <td>Not-in-family</td>\n      <td>White</td>\n      <td>Male</td>\n      <td>0</td>\n      <td>0</td>\n      <td>40</td>\n      <td>United-States</td>\n      <td>&lt;=50K</td>\n    </tr>\n    <tr>\n      <th>3</th>\n      <td>53</td>\n      <td>Private</td>\n      <td>234721</td>\n      <td>11th</td>\n      <td>7</td>\n      <td>Married-civ-spouse</td>\n      <td>Handlers-cleaners</td>\n      <td>Husband</td>\n      <td>Black</td>\n      <td>Male</td>\n      <td>0</td>\n      <td>0</td>\n      <td>40</td>\n      <td>United-States</td>\n      <td>&lt;=50K</td>\n    </tr>\n    <tr>\n      <th>4</th>\n      <td>28</td>\n      <td>Private</td>\n      <td>338409</td>\n      <td>Bachelors</td>\n      <td>13</td>\n      <td>Married-civ-spouse</td>\n      <td>Prof-specialty</td>\n      <td>Wife</td>\n      <td>Black</td>\n      <td>Female</td>\n      <td>0</td>\n      <td>0</td>\n      <td>40</td>\n      <td>Cuba</td>\n      <td>&lt;=50K</td>\n    </tr>\n  </tbody>\n</table>\n</div>"
     },
     "execution_count": 2,
     "metadata": {},
     "output_type": "execute_result"
    }
   ],
   "source": [
    "df.head()"
   ]
  },
  {
   "cell_type": "markdown",
   "id": "a82b1506",
   "metadata": {},
   "source": [
    "Have a look at statistic data frame."
   ]
  },
  {
   "cell_type": "code",
   "execution_count": 3,
   "id": "c8152e5e",
   "metadata": {},
   "outputs": [
    {
     "data": {
      "text/plain": "                age        fnlwgt  education_num  capital-gain  capital-loss  \\\ncount  32561.000000  3.256100e+04   32561.000000  32561.000000  32561.000000   \nmean      38.581647  1.897784e+05      10.080679   1077.648844     87.303830   \nstd       13.640433  1.055500e+05       2.572720   7385.292085    402.960219   \nmin       17.000000  1.228500e+04       1.000000      0.000000      0.000000   \n25%       28.000000  1.178270e+05       9.000000      0.000000      0.000000   \n50%       37.000000  1.783560e+05      10.000000      0.000000      0.000000   \n75%       48.000000  2.370510e+05      12.000000      0.000000      0.000000   \nmax       90.000000  1.484705e+06      16.000000  99999.000000   4356.000000   \n\n       hours-per-week  \ncount    32561.000000  \nmean        40.437456  \nstd         12.347429  \nmin          1.000000  \n25%         40.000000  \n50%         40.000000  \n75%         45.000000  \nmax         99.000000  ",
      "text/html": "<div>\n<style scoped>\n    .dataframe tbody tr th:only-of-type {\n        vertical-align: middle;\n    }\n\n    .dataframe tbody tr th {\n        vertical-align: top;\n    }\n\n    .dataframe thead th {\n        text-align: right;\n    }\n</style>\n<table border=\"1\" class=\"dataframe\">\n  <thead>\n    <tr style=\"text-align: right;\">\n      <th></th>\n      <th>age</th>\n      <th>fnlwgt</th>\n      <th>education_num</th>\n      <th>capital-gain</th>\n      <th>capital-loss</th>\n      <th>hours-per-week</th>\n    </tr>\n  </thead>\n  <tbody>\n    <tr>\n      <th>count</th>\n      <td>32561.000000</td>\n      <td>3.256100e+04</td>\n      <td>32561.000000</td>\n      <td>32561.000000</td>\n      <td>32561.000000</td>\n      <td>32561.000000</td>\n    </tr>\n    <tr>\n      <th>mean</th>\n      <td>38.581647</td>\n      <td>1.897784e+05</td>\n      <td>10.080679</td>\n      <td>1077.648844</td>\n      <td>87.303830</td>\n      <td>40.437456</td>\n    </tr>\n    <tr>\n      <th>std</th>\n      <td>13.640433</td>\n      <td>1.055500e+05</td>\n      <td>2.572720</td>\n      <td>7385.292085</td>\n      <td>402.960219</td>\n      <td>12.347429</td>\n    </tr>\n    <tr>\n      <th>min</th>\n      <td>17.000000</td>\n      <td>1.228500e+04</td>\n      <td>1.000000</td>\n      <td>0.000000</td>\n      <td>0.000000</td>\n      <td>1.000000</td>\n    </tr>\n    <tr>\n      <th>25%</th>\n      <td>28.000000</td>\n      <td>1.178270e+05</td>\n      <td>9.000000</td>\n      <td>0.000000</td>\n      <td>0.000000</td>\n      <td>40.000000</td>\n    </tr>\n    <tr>\n      <th>50%</th>\n      <td>37.000000</td>\n      <td>1.783560e+05</td>\n      <td>10.000000</td>\n      <td>0.000000</td>\n      <td>0.000000</td>\n      <td>40.000000</td>\n    </tr>\n    <tr>\n      <th>75%</th>\n      <td>48.000000</td>\n      <td>2.370510e+05</td>\n      <td>12.000000</td>\n      <td>0.000000</td>\n      <td>0.000000</td>\n      <td>45.000000</td>\n    </tr>\n    <tr>\n      <th>max</th>\n      <td>90.000000</td>\n      <td>1.484705e+06</td>\n      <td>16.000000</td>\n      <td>99999.000000</td>\n      <td>4356.000000</td>\n      <td>99.000000</td>\n    </tr>\n  </tbody>\n</table>\n</div>"
     },
     "execution_count": 3,
     "metadata": {},
     "output_type": "execute_result"
    }
   ],
   "source": [
    "df.describe()"
   ]
  },
  {
   "cell_type": "markdown",
   "id": "8455a460",
   "metadata": {},
   "source": [
    "Transform the data sets."
   ]
  },
  {
   "cell_type": "code",
   "execution_count": 4,
   "id": "40991adc",
   "metadata": {},
   "outputs": [],
   "source": [
    "df['income']=df['income'].map({' <=50K': 0, ' >50K': 1})"
   ]
  },
  {
   "cell_type": "code",
   "execution_count": 5,
   "id": "fc94035f",
   "metadata": {},
   "outputs": [],
   "source": [
    "df['workclass']=df['workclass'].map({' Private': 1, ' Self-emp-not-inc': 2,\n",
    "                                    ' Self-emp-inc': 3, ' Federal-gov': 4,\n",
    "                                    ' Local-gov': 5, ' State-gov': 6, ' Without-pay': 7,\n",
    "                                    ' Never-worked': 8})"
   ]
  },
  {
   "cell_type": "code",
   "execution_count": 6,
   "id": "077e3fc2",
   "metadata": {},
   "outputs": [],
   "source": [
    "df['education']=df['education'].map({' Bachelors': 1, ' Some-college': 2,\n",
    "                                    ' 11th': 3, ' HS-grad': 4,\n",
    "                                    ' Prof-school': 5, ' Assoc-acdm': 6, ' Assoc-voc': 7,\n",
    "                                    ' 9th': 8, ' 7th-8th': 9, ' 12th': 10, ' Masters': 11,\n",
    "                                    ' 1st-4th': 12, ' 10th': 13, ' Doctorate': 14, \n",
    "                                    ' 5th-6th': 15, ' Preschool': 16})"
   ]
  },
  {
   "cell_type": "code",
   "execution_count": 7,
   "id": "c24abfa0",
   "metadata": {},
   "outputs": [],
   "source": [
    "df['marital-status']=df['marital-status'].map({' Married-civ-spouse': 1, ' Divorced': 2,\n",
    "                                    ' Never-married': 3, ' Separated': 4,\n",
    "                                    ' Widowed': 5, ' Married-spouse-absent': 6, ' Married-AF-spouse': 7})"
   ]
  },
  {
   "cell_type": "code",
   "execution_count": 8,
   "id": "6d01fac7-e91b-49a9-bae4-9c86042a7f02",
   "metadata": {},
   "outputs": [],
   "source": [
    "df['occupation']=df['occupation'].map({' Tech-support': 1, ' Craft-repair': 2,\n",
    "                                    ' Other-service': 3, ' Sales': 4,\n",
    "                                    ' Exec-managerial': 5, ' Prof-specialty': 6, ' Handlers-cleaners': 7,\n",
    "                                      ' Machine-op-inspct': 8, ' Adm-clerical': 9,\n",
    "                                    ' Farming-fishing': 10, ' Transport-moving': 11,\n",
    "                                    ' Priv-house-serv': 12, ' Protective-serv': 13, ' Armed-Forces': 14})"
   ]
  },
  {
   "cell_type": "code",
   "execution_count": 9,
   "id": "28bb1601-ceae-42da-b2d4-a2d988e4140d",
   "metadata": {},
   "outputs": [],
   "source": [
    "df['relationship']=df['relationship'].map({' Wife': 1, ' Own-child': 2,\n",
    "                                    ' Husband': 3, ' Not-in-family': 4,\n",
    "                                    ' Other-relative': 5, ' Unmarried': 6})"
   ]
  },
  {
   "cell_type": "code",
   "execution_count": 10,
   "id": "22cfdd29-12a7-4355-a369-ff6741e40147",
   "metadata": {},
   "outputs": [],
   "source": [
    "df['race']=df['race'].map({' White': 1, ' Asian-Pac-Islander': 2,\n",
    "                                    ' Amer-Indian-Eskimo': 3, ' Other': 4,\n",
    "                                    ' Black': 5})"
   ]
  },
  {
   "cell_type": "code",
   "execution_count": 11,
   "id": "258d293d-e702-4f54-8e92-be18fa2b132d",
   "metadata": {},
   "outputs": [],
   "source": [
    "df['sex']=df['sex'].map({' Female': 1, ' Male': 2})"
   ]
  },
  {
   "cell_type": "code",
   "execution_count": 12,
   "id": "21f2870d-22ee-468d-bd52-5d5c295f674b",
   "metadata": {},
   "outputs": [],
   "source": [
    "df['native-country']=df['native-country'].map({' United-States': 1, ' Cambodia': 2,\n",
    "                                    ' England': 3, ' Puerto-Rico': 4,\n",
    "                                    ' Canada': 5, ' Germany': 6, ' Outlying-US(Guam-USVI-etc)': 7,\n",
    "                                      ' India': 8, ' Japan': 9,\n",
    "                                    ' Greece': 10, ' South': 11,\n",
    "                                    ' China': 12, ' Cuba': 13, ' Iran': 14,\n",
    "                                              ' Honduras': 15, ' Philippines': 16,\n",
    "                                    ' Italy': 17, ' Poland': 18,\n",
    "                                    ' Jamaica': 19, ' Vietnam': 20, ' Mexico': 21,\n",
    "                                      ' Portugal': 22, ' Ireland': 23,\n",
    "                                    ' France': 24, ' Dominican-Republic': 25,\n",
    "                                    ' Laos': 26, ' Ecuador': 27,\n",
    "                                              ' Taiwan': 28, ' Haiti': 29,\n",
    "                                    ' Columbia': 30, ' Hungary': 31,\n",
    "                                    ' Guatemala': 32, ' Nicaragua': 33, ' Scotland': 34,\n",
    "                                      ' Thailand': 35, ' Yugoslavia': 36,\n",
    "                                    ' El-Salvador': 37, ' Trinadad&Tobago': 38,\n",
    "                                    ' Peru': 39, ' Hong': 40, ' Holand-Netherland': 41})"
   ]
  },
  {
   "cell_type": "code",
   "execution_count": 13,
   "id": "ba021261",
   "metadata": {},
   "outputs": [
    {
     "data": {
      "text/plain": "   age  workclass  fnlwgt  education  education_num  marital-status  \\\n0   39        6.0   77516          1             13               3   \n1   50        2.0   83311          1             13               1   \n2   38        1.0  215646          4              9               2   \n3   53        1.0  234721          3              7               1   \n4   28        1.0  338409          1             13               1   \n\n   occupation  relationship  race  sex  capital-gain  capital-loss  \\\n0         9.0             4     1    2          2174             0   \n1         5.0             3     1    2             0             0   \n2         7.0             4     1    2             0             0   \n3         7.0             3     5    2             0             0   \n4         6.0             1     5    1             0             0   \n\n   hours-per-week  native-country  income  \n0              40             1.0       0  \n1              13             1.0       0  \n2              40             1.0       0  \n3              40             1.0       0  \n4              40            13.0       0  ",
      "text/html": "<div>\n<style scoped>\n    .dataframe tbody tr th:only-of-type {\n        vertical-align: middle;\n    }\n\n    .dataframe tbody tr th {\n        vertical-align: top;\n    }\n\n    .dataframe thead th {\n        text-align: right;\n    }\n</style>\n<table border=\"1\" class=\"dataframe\">\n  <thead>\n    <tr style=\"text-align: right;\">\n      <th></th>\n      <th>age</th>\n      <th>workclass</th>\n      <th>fnlwgt</th>\n      <th>education</th>\n      <th>education_num</th>\n      <th>marital-status</th>\n      <th>occupation</th>\n      <th>relationship</th>\n      <th>race</th>\n      <th>sex</th>\n      <th>capital-gain</th>\n      <th>capital-loss</th>\n      <th>hours-per-week</th>\n      <th>native-country</th>\n      <th>income</th>\n    </tr>\n  </thead>\n  <tbody>\n    <tr>\n      <th>0</th>\n      <td>39</td>\n      <td>6.0</td>\n      <td>77516</td>\n      <td>1</td>\n      <td>13</td>\n      <td>3</td>\n      <td>9.0</td>\n      <td>4</td>\n      <td>1</td>\n      <td>2</td>\n      <td>2174</td>\n      <td>0</td>\n      <td>40</td>\n      <td>1.0</td>\n      <td>0</td>\n    </tr>\n    <tr>\n      <th>1</th>\n      <td>50</td>\n      <td>2.0</td>\n      <td>83311</td>\n      <td>1</td>\n      <td>13</td>\n      <td>1</td>\n      <td>5.0</td>\n      <td>3</td>\n      <td>1</td>\n      <td>2</td>\n      <td>0</td>\n      <td>0</td>\n      <td>13</td>\n      <td>1.0</td>\n      <td>0</td>\n    </tr>\n    <tr>\n      <th>2</th>\n      <td>38</td>\n      <td>1.0</td>\n      <td>215646</td>\n      <td>4</td>\n      <td>9</td>\n      <td>2</td>\n      <td>7.0</td>\n      <td>4</td>\n      <td>1</td>\n      <td>2</td>\n      <td>0</td>\n      <td>0</td>\n      <td>40</td>\n      <td>1.0</td>\n      <td>0</td>\n    </tr>\n    <tr>\n      <th>3</th>\n      <td>53</td>\n      <td>1.0</td>\n      <td>234721</td>\n      <td>3</td>\n      <td>7</td>\n      <td>1</td>\n      <td>7.0</td>\n      <td>3</td>\n      <td>5</td>\n      <td>2</td>\n      <td>0</td>\n      <td>0</td>\n      <td>40</td>\n      <td>1.0</td>\n      <td>0</td>\n    </tr>\n    <tr>\n      <th>4</th>\n      <td>28</td>\n      <td>1.0</td>\n      <td>338409</td>\n      <td>1</td>\n      <td>13</td>\n      <td>1</td>\n      <td>6.0</td>\n      <td>1</td>\n      <td>5</td>\n      <td>1</td>\n      <td>0</td>\n      <td>0</td>\n      <td>40</td>\n      <td>13.0</td>\n      <td>0</td>\n    </tr>\n  </tbody>\n</table>\n</div>"
     },
     "execution_count": 13,
     "metadata": {},
     "output_type": "execute_result"
    }
   ],
   "source": [
    "df.head()"
   ]
  },
  {
   "cell_type": "code",
   "execution_count": 14,
   "id": "408ee139",
   "metadata": {},
   "outputs": [
    {
     "name": "stdout",
     "output_type": "stream",
     "text": [
      "<class 'pandas.core.frame.DataFrame'>\n",
      "RangeIndex: 32561 entries, 0 to 32560\n",
      "Data columns (total 15 columns):\n",
      " #   Column          Non-Null Count  Dtype  \n",
      "---  ------          --------------  -----  \n",
      " 0   age             32561 non-null  int64  \n",
      " 1   workclass       30725 non-null  float64\n",
      " 2   fnlwgt          32561 non-null  int64  \n",
      " 3   education       32561 non-null  int64  \n",
      " 4   education_num   32561 non-null  int64  \n",
      " 5   marital-status  32561 non-null  int64  \n",
      " 6   occupation      30718 non-null  float64\n",
      " 7   relationship    32561 non-null  int64  \n",
      " 8   race            32561 non-null  int64  \n",
      " 9   sex             32561 non-null  int64  \n",
      " 10  capital-gain    32561 non-null  int64  \n",
      " 11  capital-loss    32561 non-null  int64  \n",
      " 12  hours-per-week  32561 non-null  int64  \n",
      " 13  native-country  31977 non-null  float64\n",
      " 14  income          32561 non-null  int64  \n",
      "dtypes: float64(3), int64(12)\n",
      "memory usage: 3.7 MB\n"
     ]
    }
   ],
   "source": [
    "df.info()"
   ]
  },
  {
   "cell_type": "markdown",
   "id": "c2612caa-363f-48ae-ae0e-e7ab4817f970",
   "metadata": {},
   "source": [
    "check for null values"
   ]
  },
  {
   "cell_type": "code",
   "execution_count": 15,
   "id": "814668d5",
   "metadata": {},
   "outputs": [
    {
     "data": {
      "text/plain": "age               False\nworkclass          True\nfnlwgt            False\neducation         False\neducation_num     False\nmarital-status    False\noccupation         True\nrelationship      False\nrace              False\nsex               False\ncapital-gain      False\ncapital-loss      False\nhours-per-week    False\nnative-country     True\nincome            False\ndtype: bool"
     },
     "execution_count": 15,
     "metadata": {},
     "output_type": "execute_result"
    }
   ],
   "source": [
    "df.isnull().any()"
   ]
  },
  {
   "cell_type": "markdown",
   "id": "9080ac3f-9556-434a-9b34-aeb2056de12b",
   "metadata": {},
   "source": [
    "delete lines with '?'"
   ]
  },
  {
   "cell_type": "code",
   "execution_count": 16,
   "id": "df9690f0-da0b-403f-94ff-3322e79f410c",
   "metadata": {},
   "outputs": [
    {
     "name": "stdout",
     "output_type": "stream",
     "text": [
      "<class 'pandas.core.frame.DataFrame'>\n",
      "Int64Index: 30161 entries, 0 to 32560\n",
      "Data columns (total 15 columns):\n",
      " #   Column          Non-Null Count  Dtype  \n",
      "---  ------          --------------  -----  \n",
      " 0   age             30161 non-null  int64  \n",
      " 1   workclass       30161 non-null  float64\n",
      " 2   fnlwgt          30161 non-null  int64  \n",
      " 3   education       30161 non-null  int64  \n",
      " 4   education_num   30161 non-null  int64  \n",
      " 5   marital-status  30161 non-null  int64  \n",
      " 6   occupation      30161 non-null  float64\n",
      " 7   relationship    30161 non-null  int64  \n",
      " 8   race            30161 non-null  int64  \n",
      " 9   sex             30161 non-null  int64  \n",
      " 10  capital-gain    30161 non-null  int64  \n",
      " 11  capital-loss    30161 non-null  int64  \n",
      " 12  hours-per-week  30161 non-null  int64  \n",
      " 13  native-country  30161 non-null  float64\n",
      " 14  income          30161 non-null  int64  \n",
      "dtypes: float64(3), int64(12)\n",
      "memory usage: 3.7 MB\n"
     ]
    }
   ],
   "source": [
    "df.replace(' ?', np.nan,inplace=True)\n",
    "df.dropna(inplace=True)\n",
    "df.info()"
   ]
  },
  {
   "cell_type": "code",
   "execution_count": 17,
   "outputs": [
    {
     "data": {
      "text/plain": "age               False\nworkclass         False\nfnlwgt            False\neducation         False\neducation_num     False\nmarital-status    False\noccupation        False\nrelationship      False\nrace              False\nsex               False\ncapital-gain      False\ncapital-loss      False\nhours-per-week    False\nnative-country    False\nincome            False\ndtype: bool"
     },
     "execution_count": 17,
     "metadata": {},
     "output_type": "execute_result"
    }
   ],
   "source": [
    "df.isnull().any()"
   ],
   "metadata": {
    "collapsed": false
   }
  },
  {
   "cell_type": "markdown",
   "source": [
    "remove duplicate rows"
   ],
   "metadata": {
    "collapsed": false
   }
  },
  {
   "cell_type": "code",
   "execution_count": 18,
   "id": "590875f8-6a8d-4ad3-97ec-57d02d4e29d9",
   "metadata": {},
   "outputs": [
    {
     "name": "stdout",
     "output_type": "stream",
     "text": [
      "Before removing duplicates: 23\n",
      "After removing duplicates: 0\n"
     ]
    }
   ],
   "source": [
    "print(\"Before removing duplicates:\", df.duplicated().sum())\n",
    "df = df[~df.duplicated()]\n",
    "print(\"After removing duplicates:\", df.duplicated().sum())"
   ]
  },
  {
   "cell_type": "code",
   "execution_count": 19,
   "id": "85e0e42e-8374-413b-b9fc-2e24348a6d9f",
   "metadata": {},
   "outputs": [
    {
     "name": "stdout",
     "output_type": "stream",
     "text": [
      "<class 'pandas.core.frame.DataFrame'>\n",
      "Int64Index: 30138 entries, 0 to 32560\n",
      "Data columns (total 15 columns):\n",
      " #   Column          Non-Null Count  Dtype  \n",
      "---  ------          --------------  -----  \n",
      " 0   age             30138 non-null  int64  \n",
      " 1   workclass       30138 non-null  float64\n",
      " 2   fnlwgt          30138 non-null  int64  \n",
      " 3   education       30138 non-null  int64  \n",
      " 4   education_num   30138 non-null  int64  \n",
      " 5   marital-status  30138 non-null  int64  \n",
      " 6   occupation      30138 non-null  float64\n",
      " 7   relationship    30138 non-null  int64  \n",
      " 8   race            30138 non-null  int64  \n",
      " 9   sex             30138 non-null  int64  \n",
      " 10  capital-gain    30138 non-null  int64  \n",
      " 11  capital-loss    30138 non-null  int64  \n",
      " 12  hours-per-week  30138 non-null  int64  \n",
      " 13  native-country  30138 non-null  float64\n",
      " 14  income          30138 non-null  int64  \n",
      "dtypes: float64(3), int64(12)\n",
      "memory usage: 3.7 MB\n"
     ]
    }
   ],
   "source": [
    "df.info()"
   ]
  },
  {
   "cell_type": "markdown",
   "id": "01190a7f-d4a8-4ceb-ac82-7b903bf16a6e",
   "metadata": {},
   "source": [
    "randomize the data"
   ]
  },
  {
   "cell_type": "code",
   "execution_count": 20,
   "id": "1c753816-0d7d-47f1-ac80-2fea11e6262b",
   "metadata": {},
   "outputs": [
    {
     "data": {
      "text/plain": "       age  workclass  fnlwgt  education  education_num  marital-status  \\\n7976    34        1.0  134737         11             14               1   \n25165   25        1.0  233461          6             12               3   \n17520   31        2.0  357145         14             16               3   \n22941   44        1.0   85440          4              9               1   \n17706   36        1.0  279721          4              9               1   \n\n       occupation  relationship  race  sex  capital-gain  capital-loss  \\\n7976          6.0             3     1    2          7688             0   \n25165         1.0             4     1    2             0             0   \n17520         6.0             2     1    1             0             0   \n22941         9.0             3     1    2             0             0   \n17706        11.0             3     1    2             0             0   \n\n       hours-per-week  native-country  income  \n7976               55             1.0       1  \n25165              30             1.0       0  \n17520              48             1.0       0  \n22941              45             1.0       0  \n17706              40             1.0       0  ",
      "text/html": "<div>\n<style scoped>\n    .dataframe tbody tr th:only-of-type {\n        vertical-align: middle;\n    }\n\n    .dataframe tbody tr th {\n        vertical-align: top;\n    }\n\n    .dataframe thead th {\n        text-align: right;\n    }\n</style>\n<table border=\"1\" class=\"dataframe\">\n  <thead>\n    <tr style=\"text-align: right;\">\n      <th></th>\n      <th>age</th>\n      <th>workclass</th>\n      <th>fnlwgt</th>\n      <th>education</th>\n      <th>education_num</th>\n      <th>marital-status</th>\n      <th>occupation</th>\n      <th>relationship</th>\n      <th>race</th>\n      <th>sex</th>\n      <th>capital-gain</th>\n      <th>capital-loss</th>\n      <th>hours-per-week</th>\n      <th>native-country</th>\n      <th>income</th>\n    </tr>\n  </thead>\n  <tbody>\n    <tr>\n      <th>7976</th>\n      <td>34</td>\n      <td>1.0</td>\n      <td>134737</td>\n      <td>11</td>\n      <td>14</td>\n      <td>1</td>\n      <td>6.0</td>\n      <td>3</td>\n      <td>1</td>\n      <td>2</td>\n      <td>7688</td>\n      <td>0</td>\n      <td>55</td>\n      <td>1.0</td>\n      <td>1</td>\n    </tr>\n    <tr>\n      <th>25165</th>\n      <td>25</td>\n      <td>1.0</td>\n      <td>233461</td>\n      <td>6</td>\n      <td>12</td>\n      <td>3</td>\n      <td>1.0</td>\n      <td>4</td>\n      <td>1</td>\n      <td>2</td>\n      <td>0</td>\n      <td>0</td>\n      <td>30</td>\n      <td>1.0</td>\n      <td>0</td>\n    </tr>\n    <tr>\n      <th>17520</th>\n      <td>31</td>\n      <td>2.0</td>\n      <td>357145</td>\n      <td>14</td>\n      <td>16</td>\n      <td>3</td>\n      <td>6.0</td>\n      <td>2</td>\n      <td>1</td>\n      <td>1</td>\n      <td>0</td>\n      <td>0</td>\n      <td>48</td>\n      <td>1.0</td>\n      <td>0</td>\n    </tr>\n    <tr>\n      <th>22941</th>\n      <td>44</td>\n      <td>1.0</td>\n      <td>85440</td>\n      <td>4</td>\n      <td>9</td>\n      <td>1</td>\n      <td>9.0</td>\n      <td>3</td>\n      <td>1</td>\n      <td>2</td>\n      <td>0</td>\n      <td>0</td>\n      <td>45</td>\n      <td>1.0</td>\n      <td>0</td>\n    </tr>\n    <tr>\n      <th>17706</th>\n      <td>36</td>\n      <td>1.0</td>\n      <td>279721</td>\n      <td>4</td>\n      <td>9</td>\n      <td>1</td>\n      <td>11.0</td>\n      <td>3</td>\n      <td>1</td>\n      <td>2</td>\n      <td>0</td>\n      <td>0</td>\n      <td>40</td>\n      <td>1.0</td>\n      <td>0</td>\n    </tr>\n  </tbody>\n</table>\n</div>"
     },
     "execution_count": 20,
     "metadata": {},
     "output_type": "execute_result"
    }
   ],
   "source": [
    "df = df.sample(frac=1)\n",
    "df.head()"
   ]
  },
  {
   "cell_type": "markdown",
   "id": "144da026-e7e6-43d9-b50e-b71f93c83c34",
   "metadata": {},
   "source": [
    "separate the target class from the rest of the attributes\n"
   ]
  },
  {
   "cell_type": "code",
   "execution_count": 21,
   "id": "aca83cea",
   "metadata": {},
   "outputs": [],
   "source": [
    "import numpy as np\n",
    "\n",
    "np.set_printoptions(suppress=True)\n",
    "\n",
    "xs, ys = np.split(df.values, [-1], axis=1)\n",
    "ys = ys.reshape(-1)"
   ]
  },
  {
   "cell_type": "markdown",
   "id": "de1c6b67",
   "metadata": {},
   "source": [
    "Select 80% of the dataset for training and 20% for testing."
   ]
  },
  {
   "cell_type": "code",
   "execution_count": 22,
   "id": "df474bef",
   "metadata": {},
   "outputs": [
    {
     "name": "stdout",
     "output_type": "stream",
     "text": [
      "training set shape:\t (24110, 14)\n",
      "test set shape:\t\t (6028, 14)\n"
     ]
    }
   ],
   "source": [
    "n_train = len(xs) * 80 // 100\n",
    "xs_train, xs_test = np.split(xs, [n_train], axis=0)\n",
    "ys_train, ys_test = np.split(ys, [n_train], axis=0)\n",
    "\n",
    "print('training set shape:\\t', xs_train.shape)\n",
    "print('test set shape:\\t\\t', xs_test.shape)"
   ]
  },
  {
   "cell_type": "markdown",
   "id": "f66d631a-3c5a-4af9-8092-65d51e72fd76",
   "metadata": {},
   "source": [
    "perform a standardization"
   ]
  },
  {
   "cell_type": "code",
   "execution_count": 23,
   "id": "c0ea9024-fd26-4aaa-bbf7-f6f1f3da7f97",
   "metadata": {},
   "outputs": [],
   "source": [
    "mu = np.mean(xs_train, axis=0)\n",
    "sigma = np.std(xs_train, axis=0)\n",
    "\n",
    "xs_train = (xs_train - mu)/sigma\n",
    "xs_test = (xs_test - mu)/sigma"
   ]
  },
  {
   "cell_type": "markdown",
   "id": "f25436a2-f9b5-4186-8b68-f29932aa558c",
   "metadata": {},
   "source": [
    "see that now this mean vector contains"
   ]
  },
  {
   "cell_type": "code",
   "execution_count": 24,
   "id": "0bf52f42-b4f2-41c8-a7a1-2cd80fdddc7a",
   "metadata": {},
   "outputs": [
    {
     "data": {
      "text/plain": "array([ 0., -0.,  0.,  0., -0., -0.,  0.,  0.,  0.,  0., -0.,  0.,  0.,\n       -0.])"
     },
     "execution_count": 24,
     "metadata": {},
     "output_type": "execute_result"
    }
   ],
   "source": [
    "np.mean(xs_train, axis=0)"
   ]
  },
  {
   "cell_type": "code",
   "execution_count": 25,
   "id": "f117caef-7698-46c3-a480-bb169be96f68",
   "metadata": {},
   "outputs": [
    {
     "data": {
      "text/plain": "array([ 0.03730389, -0.0044933 , -0.01482553, -0.00502916, -0.01429519,\n       -0.00106593, -0.01106549,  0.02476864, -0.01445751,  0.00023466,\n       -0.01470342,  0.0102514 , -0.0124336 ,  0.00563344])"
     },
     "execution_count": 25,
     "metadata": {},
     "output_type": "execute_result"
    }
   ],
   "source": [
    "np.mean(xs_test, axis=0)"
   ]
  },
  {
   "cell_type": "markdown",
   "id": "19bb81a9",
   "metadata": {},
   "source": [
    " Implement the Nearest Neighbor (NN) algorithm"
   ]
  },
  {
   "cell_type": "code",
   "execution_count": 25,
   "id": "35010896",
   "metadata": {},
   "outputs": [],
   "source": [
    "class NN:\n",
    "\n",
    "    def __init__(self, distance):\n",
    "        self.training_examples = []\n",
    "        self.distance = distance\n",
    "\n",
    "    def add_example(self, x, y):\n",
    "        \"\"\"\n",
    "        Add one example to the list of training examples.\n",
    "        :param x: The vector of feature values\n",
    "        :param y: The label associated to this example\n",
    "        \"\"\"\n",
    "        self.training_examples.append((x, y))\n",
    "\n",
    "    def add_examples(self, xs, ys):\n",
    "        \"\"\"\n",
    "        Add a list of examples to the list of training examples.\n",
    "        :param xs: A list of vectors of fature values\n",
    "        :param ys: A list of labels associated to the examples\n",
    "        \"\"\"\n",
    "        for x, y in zip(xs, ys):\n",
    "            self.add_example(x, y)\n",
    "\n",
    "    def closest_training_example(self, x_q):\n",
    "        y_closest = None\n",
    "        x_closest = None\n",
    "        min_score = float('inf')\n",
    "        # find closest example\n",
    "        for x, y in self.training_examples:\n",
    "            score = self.distance(x_q, x)\n",
    "            if score < min_score:\n",
    "                min_score = score\n",
    "                x_closest = x\n",
    "                y_closest = y\n",
    "\n",
    "        return x_closest, y_closest\n",
    "\n",
    "    def classify(self, xq):\n",
    "        _, y_hat = self.closest_training_example(xq)\n",
    "        return y_hat"
   ]
  },
  {
   "cell_type": "markdown",
   "id": "e1a4f911",
   "metadata": {},
   "source": [
    "Define a distance function"
   ]
  },
  {
   "cell_type": "code",
   "execution_count": 26,
   "id": "20670b3d",
   "metadata": {},
   "outputs": [],
   "source": [
    "def euclidean_distance(x_1, x_2):\n",
    "    res = 0\n",
    "    for a_1, a_2 in zip(x_1, x_2):\n",
    "        res += (a_1 - a_2) ** 2\n",
    "    res **= 0.5\n",
    "    return res"
   ]
  },
  {
   "cell_type": "markdown",
   "id": "48cee14f",
   "metadata": {},
   "source": [
    "Instantiate the NN classifier and train it."
   ]
  },
  {
   "cell_type": "code",
   "execution_count": 27,
   "id": "06d1c2ac",
   "metadata": {},
   "outputs": [],
   "source": [
    "nn_clf = NN(euclidean_distance)\n",
    "\n",
    "nn_clf.add_examples(xs_train, ys_train)"
   ]
  },
  {
   "cell_type": "markdown",
   "id": "c5c782c4",
   "metadata": {},
   "source": [
    "Define the accuracy measure"
   ]
  },
  {
   "cell_type": "code",
   "execution_count": 36,
   "id": "ddfcda94",
   "metadata": {},
   "outputs": [],
   "source": [
    "def accuracy(ys, ys_hat):\n",
    "    res = 0\n",
    "    for y, y_hat in zip(ys, ys_hat):\n",
    "        if y == y_hat:\n",
    "            res += 1\n",
    "    res /= len(ys)\n",
    "    return res"
   ]
  },
  {
   "cell_type": "markdown",
   "id": "3dea8ea9",
   "metadata": {},
   "source": [
    "Test the classifier on both training and test sets"
   ]
  },
  {
   "cell_type": "code",
   "execution_count": 29,
   "id": "8001c9cf",
   "metadata": {},
   "outputs": [
    {
     "name": "stdout",
     "output_type": "stream",
     "text": [
      "Train accuracy of NN 1.0\n",
      "Test accuracy of NN 0.805408095554081\n"
     ]
    }
   ],
   "source": [
    "ys_train_pred = []\n",
    "for x in xs_train:\n",
    "    y_hat = nn_clf.classify(x)\n",
    "    ys_train_pred.append(y_hat)\n",
    "\n",
    "ys_test_pred = []\n",
    "for x in xs_test:\n",
    "    y_hat = nn_clf.classify(x)\n",
    "    ys_test_pred.append(y_hat)\n",
    "\n",
    "print('Train accuracy of NN', accuracy(ys_train, ys_train_pred))\n",
    "print('Test accuracy of NN', accuracy(ys_test, ys_test_pred))"
   ]
  },
  {
   "cell_type": "markdown",
   "id": "dee2ac2d-5bb6-470b-91e6-29b4ef38f60a",
   "metadata": {},
   "source": [
    "compare the test result of this classifier to a random classifier"
   ]
  },
  {
   "cell_type": "code",
   "execution_count": 30,
   "id": "b177aa93-d496-42b7-8b5f-1e0b806d0c7b",
   "metadata": {},
   "outputs": [
    {
     "name": "stdout",
     "output_type": "stream",
     "text": [
      "Test accuracy of a random classifier 0.0710019907100199\n"
     ]
    }
   ],
   "source": [
    "ys_test_pred_random = np.random.randint(1, 4, len(ys_test))\n",
    "print('Test accuracy of a random classifier', accuracy(ys_test, ys_test_pred_random))"
   ]
  },
  {
   "cell_type": "markdown",
   "id": "4c9d700a-7dee-4517-a875-6342caf25b94",
   "metadata": {},
   "source": [
    "the result of a random classifier by repeating this experiment many times"
   ]
  },
  {
   "cell_type": "code",
   "execution_count": 31,
   "id": "50829798-ff29-4829-816e-afd884d23a9d",
   "metadata": {},
   "outputs": [
    {
     "data": {
      "image/png": "[encoded data removed]",
      "text/plain": [
       "<Figure size 432x288 with 1 Axes>"
      ]
     },
     "metadata": {
      "needs_background": "light"
     },
     "output_type": "display_data"
    },
    {
     "name": "stdout",
     "output_type": "stream",
     "text": [
      "Expected accuracy of a random classifier 0.07792868281353683\n"
     ]
    }
   ],
   "source": [
    "accuracies = []\n",
    "for _ in range(10000):\n",
    "    ys_test_pred_random = np.random.randint(1, 4, len(ys_test))\n",
    "    accuracies.append(accuracy(ys_test, ys_test_pred_random))\n",
    "\n",
    "plt.hist(accuracies)\n",
    "plt.show()\n",
    "\n",
    "print('Expected accuracy of a random classifier', np.mean(accuracies))"
   ]
  },
  {
   "cell_type": "markdown",
   "id": "d5fd55e6-f82b-4264-ae6b-c5d4abd4b627",
   "metadata": {},
   "source": [
    "set the kNN implementation of scikit-learn"
   ]
  },
  {
   "cell_type": "code",
   "execution_count": 32,
   "id": "201baf4f-26ab-4ddc-8cab-00d073546296",
   "metadata": {},
   "outputs": [],
   "source": [
    "from sklearn.neighbors import KNeighborsClassifier\n",
    "\n",
    "knn_clf = KNeighborsClassifier(n_neighbors=5, metric='euclidean')"
   ]
  },
  {
   "cell_type": "markdown",
   "id": "b3b6fec2-af81-49a9-8261-e0a44d288740",
   "metadata": {},
   "source": [
    "train the classifier."
   ]
  },
  {
   "cell_type": "code",
   "execution_count": 33,
   "id": "f42f62bf-c676-4596-ab90-5e5e8e5dda6a",
   "metadata": {},
   "outputs": [
    {
     "data": {
      "text/plain": "KNeighborsClassifier(metric='euclidean')"
     },
     "execution_count": 33,
     "metadata": {},
     "output_type": "execute_result"
    }
   ],
   "source": [
    "knn_clf.fit(xs_train, ys_train)"
   ]
  },
  {
   "cell_type": "markdown",
   "id": "f814be29-96fc-44ae-a678-2fe9c31555a0",
   "metadata": {},
   "source": [
    "evaluate the result of this classifier"
   ]
  },
  {
   "cell_type": "code",
   "execution_count": 34,
   "id": "c14c1312-2a54-4532-a0fc-bd2a34135648",
   "metadata": {},
   "outputs": [
    {
     "name": "stdout",
     "output_type": "stream",
     "text": [
      "Test accuracy of kNN 0.8243198407431984\n"
     ]
    }
   ],
   "source": [
    "from sklearn.metrics import accuracy_score\n",
    "\n",
    "ys_test_pred = knn_clf.predict(xs_test)\n",
    "\n",
    "print('Test accuracy of kNN', accuracy_score(ys_test, ys_test_pred))"
   ]
  },
  {
   "cell_type": "markdown",
   "id": "2785449d-0f60-42eb-ab08-52e7b346e852",
   "metadata": {},
   "source": [
    "the cosine distance"
   ]
  },
  {
   "cell_type": "code",
   "execution_count": 42,
   "id": "5545684d-fbe0-4625-8b38-6e192465a07d",
   "metadata": {},
   "outputs": [
    {
     "name": "stdout",
     "output_type": "stream",
     "text": [
      "Test accuracy of kNN 0.8020902455209025\n"
     ]
    }
   ],
   "source": [
    "knn_clf = KNeighborsClassifier(n_neighbors=1, metric='cosine')\n",
    "\n",
    "knn_clf.fit(xs_train, ys_train)\n",
    "\n",
    "ys_test_pred = knn_clf.predict(xs_test)\n",
    "\n",
    "print('Test accuracy of kNN', accuracy_score(ys_test, ys_test_pred))"
   ]
  },
  {
   "cell_type": "markdown",
   "id": "cca30ebc-d31d-440b-84c8-8c0f9f64abe8",
   "metadata": {},
   "source": [
    "perform a k-fold cross-validation on the training set"
   ]
  },
  {
   "cell_type": "code",
   "execution_count": 43,
   "id": "18f6f968-2e52-47d2-ac75-e62081453fa5",
   "metadata": {},
   "outputs": [
    {
     "name": "stdout",
     "output_type": "stream",
     "text": [
      "Fitting 5 folds for each of 60 candidates, totalling 300 fits\n",
      "[CV] END ...metric=euclidean, n_neighbors=1, weights=uniform; total time=   0.8s\n",
      "[CV] END ...metric=euclidean, n_neighbors=1, weights=uniform; total time=   0.8s\n",
      "[CV] END ...metric=euclidean, n_neighbors=1, weights=uniform; total time=   0.8s\n",
      "[CV] END ...metric=euclidean, n_neighbors=1, weights=uniform; total time=   0.8s\n",
      "[CV] END ...metric=euclidean, n_neighbors=1, weights=uniform; total time=   0.8s\n",
      "[CV] END ..metric=euclidean, n_neighbors=1, weights=distance; total time=   0.7s\n",
      "[CV] END ..metric=euclidean, n_neighbors=1, weights=distance; total time=   0.7s\n",
      "[CV] END ..metric=euclidean, n_neighbors=1, weights=distance; total time=   0.7s\n",
      "[CV] END ..metric=euclidean, n_neighbors=1, weights=distance; total time=   0.7s\n",
      "[CV] END ..metric=euclidean, n_neighbors=1, weights=distance; total time=   0.7s\n",
      "[CV] END ...metric=euclidean, n_neighbors=2, weights=uniform; total time=   1.0s\n",
      "[CV] END ...metric=euclidean, n_neighbors=2, weights=uniform; total time=   1.0s\n",
      "[CV] END ...metric=euclidean, n_neighbors=2, weights=uniform; total time=   1.0s\n",
      "[CV] END ...metric=euclidean, n_neighbors=2, weights=uniform; total time=   0.9s\n",
      "[CV] END ...metric=euclidean, n_neighbors=2, weights=uniform; total time=   1.0s\n",
      "[CV] END ..metric=euclidean, n_neighbors=2, weights=distance; total time=   0.9s\n",
      "[CV] END ..metric=euclidean, n_neighbors=2, weights=distance; total time=   0.9s\n",
      "[CV] END ..metric=euclidean, n_neighbors=2, weights=distance; total time=   0.9s\n",
      "[CV] END ..metric=euclidean, n_neighbors=2, weights=distance; total time=   0.9s\n",
      "[CV] END ..metric=euclidean, n_neighbors=2, weights=distance; total time=   0.9s\n",
      "[CV] END ...metric=euclidean, n_neighbors=3, weights=uniform; total time=   1.0s\n",
      "[CV] END ...metric=euclidean, n_neighbors=3, weights=uniform; total time=   1.1s\n",
      "[CV] END ...metric=euclidean, n_neighbors=3, weights=uniform; total time=   1.1s\n",
      "[CV] END ...metric=euclidean, n_neighbors=3, weights=uniform; total time=   1.1s\n",
      "[CV] END ...metric=euclidean, n_neighbors=3, weights=uniform; total time=   1.0s\n",
      "[CV] END ..metric=euclidean, n_neighbors=3, weights=distance; total time=   1.0s\n",
      "[CV] END ..metric=euclidean, n_neighbors=3, weights=distance; total time=   1.0s\n",
      "[CV] END ..metric=euclidean, n_neighbors=3, weights=distance; total time=   1.1s\n",
      "[CV] END ..metric=euclidean, n_neighbors=3, weights=distance; total time=   1.0s\n",
      "[CV] END ..metric=euclidean, n_neighbors=3, weights=distance; total time=   1.0s\n",
      "[CV] END ...metric=euclidean, n_neighbors=4, weights=uniform; total time=   1.1s\n",
      "[CV] END ...metric=euclidean, n_neighbors=4, weights=uniform; total time=   1.1s\n",
      "[CV] END ...metric=euclidean, n_neighbors=4, weights=uniform; total time=   1.1s\n",
      "[CV] END ...metric=euclidean, n_neighbors=4, weights=uniform; total time=   1.1s\n",
      "[CV] END ...metric=euclidean, n_neighbors=4, weights=uniform; total time=   1.1s\n",
      "[CV] END ..metric=euclidean, n_neighbors=4, weights=distance; total time=   1.1s\n",
      "[CV] END ..metric=euclidean, n_neighbors=4, weights=distance; total time=   1.0s\n",
      "[CV] END ..metric=euclidean, n_neighbors=4, weights=distance; total time=   1.1s\n",
      "[CV] END ..metric=euclidean, n_neighbors=4, weights=distance; total time=   1.0s\n",
      "[CV] END ..metric=euclidean, n_neighbors=4, weights=distance; total time=   1.1s\n",
      "[CV] END ...metric=euclidean, n_neighbors=5, weights=uniform; total time=   1.2s\n",
      "[CV] END ...metric=euclidean, n_neighbors=5, weights=uniform; total time=   1.2s\n",
      "[CV] END ...metric=euclidean, n_neighbors=5, weights=uniform; total time=   1.2s\n",
      "[CV] END ...metric=euclidean, n_neighbors=5, weights=uniform; total time=   1.1s\n",
      "[CV] END ...metric=euclidean, n_neighbors=5, weights=uniform; total time=   1.1s\n",
      "[CV] END ..metric=euclidean, n_neighbors=5, weights=distance; total time=   1.1s\n",
      "[CV] END ..metric=euclidean, n_neighbors=5, weights=distance; total time=   1.1s\n",
      "[CV] END ..metric=euclidean, n_neighbors=5, weights=distance; total time=   1.1s\n",
      "[CV] END ..metric=euclidean, n_neighbors=5, weights=distance; total time=   1.0s\n",
      "[CV] END ..metric=euclidean, n_neighbors=5, weights=distance; total time=   1.1s\n",
      "[CV] END ...metric=euclidean, n_neighbors=6, weights=uniform; total time=   1.2s\n",
      "[CV] END ...metric=euclidean, n_neighbors=6, weights=uniform; total time=   1.2s\n",
      "[CV] END ...metric=euclidean, n_neighbors=6, weights=uniform; total time=   1.2s\n",
      "[CV] END ...metric=euclidean, n_neighbors=6, weights=uniform; total time=   1.2s\n",
      "[CV] END ...metric=euclidean, n_neighbors=6, weights=uniform; total time=   1.2s\n",
      "[CV] END ..metric=euclidean, n_neighbors=6, weights=distance; total time=   1.1s\n",
      "[CV] END ..metric=euclidean, n_neighbors=6, weights=distance; total time=   1.1s\n",
      "[CV] END ..metric=euclidean, n_neighbors=6, weights=distance; total time=   1.1s\n",
      "[CV] END ..metric=euclidean, n_neighbors=6, weights=distance; total time=   1.1s\n",
      "[CV] END ..metric=euclidean, n_neighbors=6, weights=distance; total time=   1.1s\n",
      "[CV] END ...metric=euclidean, n_neighbors=7, weights=uniform; total time=   1.3s\n",
      "[CV] END ...metric=euclidean, n_neighbors=7, weights=uniform; total time=   1.2s\n",
      "[CV] END ...metric=euclidean, n_neighbors=7, weights=uniform; total time=   1.2s\n",
      "[CV] END ...metric=euclidean, n_neighbors=7, weights=uniform; total time=   1.2s\n",
      "[CV] END ...metric=euclidean, n_neighbors=7, weights=uniform; total time=   1.2s\n",
      "[CV] END ..metric=euclidean, n_neighbors=7, weights=distance; total time=   1.2s\n",
      "[CV] END ..metric=euclidean, n_neighbors=7, weights=distance; total time=   1.1s\n",
      "[CV] END ..metric=euclidean, n_neighbors=7, weights=distance; total time=   1.1s\n",
      "[CV] END ..metric=euclidean, n_neighbors=7, weights=distance; total time=   1.2s\n",
      "[CV] END ..metric=euclidean, n_neighbors=7, weights=distance; total time=   1.1s\n",
      "[CV] END ...metric=euclidean, n_neighbors=8, weights=uniform; total time=   1.3s\n",
      "[CV] END ...metric=euclidean, n_neighbors=8, weights=uniform; total time=   1.3s\n",
      "[CV] END ...metric=euclidean, n_neighbors=8, weights=uniform; total time=   1.3s\n",
      "[CV] END ...metric=euclidean, n_neighbors=8, weights=uniform; total time=   1.3s\n",
      "[CV] END ...metric=euclidean, n_neighbors=8, weights=uniform; total time=   1.3s\n",
      "[CV] END ..metric=euclidean, n_neighbors=8, weights=distance; total time=   1.2s\n",
      "[CV] END ..metric=euclidean, n_neighbors=8, weights=distance; total time=   1.3s\n",
      "[CV] END ..metric=euclidean, n_neighbors=8, weights=distance; total time=   1.2s\n",
      "[CV] END ..metric=euclidean, n_neighbors=8, weights=distance; total time=   1.2s\n",
      "[CV] END ..metric=euclidean, n_neighbors=8, weights=distance; total time=   1.1s\n",
      "[CV] END ...metric=euclidean, n_neighbors=9, weights=uniform; total time=   1.3s\n",
      "[CV] END ...metric=euclidean, n_neighbors=9, weights=uniform; total time=   1.3s\n",
      "[CV] END ...metric=euclidean, n_neighbors=9, weights=uniform; total time=   1.3s\n",
      "[CV] END ...metric=euclidean, n_neighbors=9, weights=uniform; total time=   1.3s\n",
      "[CV] END ...metric=euclidean, n_neighbors=9, weights=uniform; total time=   1.3s\n",
      "[CV] END ..metric=euclidean, n_neighbors=9, weights=distance; total time=   1.3s\n",
      "[CV] END ..metric=euclidean, n_neighbors=9, weights=distance; total time=   1.3s\n",
      "[CV] END ..metric=euclidean, n_neighbors=9, weights=distance; total time=   1.2s\n",
      "[CV] END ..metric=euclidean, n_neighbors=9, weights=distance; total time=   1.2s\n",
      "[CV] END ..metric=euclidean, n_neighbors=9, weights=distance; total time=   1.2s\n",
      "[CV] END ..metric=euclidean, n_neighbors=10, weights=uniform; total time=   1.4s\n",
      "[CV] END ..metric=euclidean, n_neighbors=10, weights=uniform; total time=   1.4s\n",
      "[CV] END ..metric=euclidean, n_neighbors=10, weights=uniform; total time=   1.4s\n",
      "[CV] END ..metric=euclidean, n_neighbors=10, weights=uniform; total time=   1.3s\n",
      "[CV] END ..metric=euclidean, n_neighbors=10, weights=uniform; total time=   1.4s\n",
      "[CV] END .metric=euclidean, n_neighbors=10, weights=distance; total time=   1.3s\n",
      "[CV] END .metric=euclidean, n_neighbors=10, weights=distance; total time=   1.3s\n",
      "[CV] END .metric=euclidean, n_neighbors=10, weights=distance; total time=   1.3s\n",
      "[CV] END .metric=euclidean, n_neighbors=10, weights=distance; total time=   1.2s\n",
      "[CV] END .metric=euclidean, n_neighbors=10, weights=distance; total time=   1.2s\n",
      "[CV] END ...metric=manhattan, n_neighbors=1, weights=uniform; total time=   1.0s\n",
      "[CV] END ...metric=manhattan, n_neighbors=1, weights=uniform; total time=   1.0s\n",
      "[CV] END ...metric=manhattan, n_neighbors=1, weights=uniform; total time=   1.0s\n",
      "[CV] END ...metric=manhattan, n_neighbors=1, weights=uniform; total time=   1.0s\n",
      "[CV] END ...metric=manhattan, n_neighbors=1, weights=uniform; total time=   1.0s\n",
      "[CV] END ..metric=manhattan, n_neighbors=1, weights=distance; total time=   0.9s\n",
      "[CV] END ..metric=manhattan, n_neighbors=1, weights=distance; total time=   0.9s\n",
      "[CV] END ..metric=manhattan, n_neighbors=1, weights=distance; total time=   0.9s\n",
      "[CV] END ..metric=manhattan, n_neighbors=1, weights=distance; total time=   0.9s\n",
      "[CV] END ..metric=manhattan, n_neighbors=1, weights=distance; total time=   0.9s\n",
      "[CV] END ...metric=manhattan, n_neighbors=2, weights=uniform; total time=   1.1s\n",
      "[CV] END ...metric=manhattan, n_neighbors=2, weights=uniform; total time=   1.2s\n",
      "[CV] END ...metric=manhattan, n_neighbors=2, weights=uniform; total time=   1.1s\n",
      "[CV] END ...metric=manhattan, n_neighbors=2, weights=uniform; total time=   1.2s\n",
      "[CV] END ...metric=manhattan, n_neighbors=2, weights=uniform; total time=   1.2s\n",
      "[CV] END ..metric=manhattan, n_neighbors=2, weights=distance; total time=   1.1s\n",
      "[CV] END ..metric=manhattan, n_neighbors=2, weights=distance; total time=   1.1s\n",
      "[CV] END ..metric=manhattan, n_neighbors=2, weights=distance; total time=   1.0s\n",
      "[CV] END ..metric=manhattan, n_neighbors=2, weights=distance; total time=   1.0s\n",
      "[CV] END ..metric=manhattan, n_neighbors=2, weights=distance; total time=   1.0s\n",
      "[CV] END ...metric=manhattan, n_neighbors=3, weights=uniform; total time=   1.3s\n",
      "[CV] END ...metric=manhattan, n_neighbors=3, weights=uniform; total time=   1.2s\n",
      "[CV] END ...metric=manhattan, n_neighbors=3, weights=uniform; total time=   1.2s\n",
      "[CV] END ...metric=manhattan, n_neighbors=3, weights=uniform; total time=   1.2s\n",
      "[CV] END ...metric=manhattan, n_neighbors=3, weights=uniform; total time=   1.2s\n",
      "[CV] END ..metric=manhattan, n_neighbors=3, weights=distance; total time=   1.2s\n",
      "[CV] END ..metric=manhattan, n_neighbors=3, weights=distance; total time=   1.2s\n",
      "[CV] END ..metric=manhattan, n_neighbors=3, weights=distance; total time=   1.2s\n",
      "[CV] END ..metric=manhattan, n_neighbors=3, weights=distance; total time=   1.2s\n",
      "[CV] END ..metric=manhattan, n_neighbors=3, weights=distance; total time=   1.2s\n",
      "[CV] END ...metric=manhattan, n_neighbors=4, weights=uniform; total time=   1.4s\n",
      "[CV] END ...metric=manhattan, n_neighbors=4, weights=uniform; total time=   1.4s\n",
      "[CV] END ...metric=manhattan, n_neighbors=4, weights=uniform; total time=   1.3s\n",
      "[CV] END ...metric=manhattan, n_neighbors=4, weights=uniform; total time=   1.3s\n",
      "[CV] END ...metric=manhattan, n_neighbors=4, weights=uniform; total time=   1.3s\n",
      "[CV] END ..metric=manhattan, n_neighbors=4, weights=distance; total time=   1.2s\n",
      "[CV] END ..metric=manhattan, n_neighbors=4, weights=distance; total time=   1.4s\n",
      "[CV] END ..metric=manhattan, n_neighbors=4, weights=distance; total time=   1.4s\n",
      "[CV] END ..metric=manhattan, n_neighbors=4, weights=distance; total time=   1.2s\n",
      "[CV] END ..metric=manhattan, n_neighbors=4, weights=distance; total time=   1.2s\n",
      "[CV] END ...metric=manhattan, n_neighbors=5, weights=uniform; total time=   1.4s\n",
      "[CV] END ...metric=manhattan, n_neighbors=5, weights=uniform; total time=   1.4s\n",
      "[CV] END ...metric=manhattan, n_neighbors=5, weights=uniform; total time=   1.4s\n",
      "[CV] END ...metric=manhattan, n_neighbors=5, weights=uniform; total time=   1.4s\n",
      "[CV] END ...metric=manhattan, n_neighbors=5, weights=uniform; total time=   1.4s\n",
      "[CV] END ..metric=manhattan, n_neighbors=5, weights=distance; total time=   1.3s\n",
      "[CV] END ..metric=manhattan, n_neighbors=5, weights=distance; total time=   1.3s\n",
      "[CV] END ..metric=manhattan, n_neighbors=5, weights=distance; total time=   1.3s\n",
      "[CV] END ..metric=manhattan, n_neighbors=5, weights=distance; total time=   1.3s\n",
      "[CV] END ..metric=manhattan, n_neighbors=5, weights=distance; total time=   1.3s\n",
      "[CV] END ...metric=manhattan, n_neighbors=6, weights=uniform; total time=   1.5s\n",
      "[CV] END ...metric=manhattan, n_neighbors=6, weights=uniform; total time=   1.4s\n",
      "[CV] END ...metric=manhattan, n_neighbors=6, weights=uniform; total time=   1.4s\n",
      "[CV] END ...metric=manhattan, n_neighbors=6, weights=uniform; total time=   1.4s\n",
      "[CV] END ...metric=manhattan, n_neighbors=6, weights=uniform; total time=   1.4s\n",
      "[CV] END ..metric=manhattan, n_neighbors=6, weights=distance; total time=   1.4s\n",
      "[CV] END ..metric=manhattan, n_neighbors=6, weights=distance; total time=   1.3s\n",
      "[CV] END ..metric=manhattan, n_neighbors=6, weights=distance; total time=   1.3s\n",
      "[CV] END ..metric=manhattan, n_neighbors=6, weights=distance; total time=   1.3s\n",
      "[CV] END ..metric=manhattan, n_neighbors=6, weights=distance; total time=   1.3s\n",
      "[CV] END ...metric=manhattan, n_neighbors=7, weights=uniform; total time=   1.5s\n",
      "[CV] END ...metric=manhattan, n_neighbors=7, weights=uniform; total time=   1.5s\n",
      "[CV] END ...metric=manhattan, n_neighbors=7, weights=uniform; total time=   1.5s\n",
      "[CV] END ...metric=manhattan, n_neighbors=7, weights=uniform; total time=   1.5s\n",
      "[CV] END ...metric=manhattan, n_neighbors=7, weights=uniform; total time=   1.5s\n",
      "[CV] END ..metric=manhattan, n_neighbors=7, weights=distance; total time=   1.4s\n",
      "[CV] END ..metric=manhattan, n_neighbors=7, weights=distance; total time=   1.4s\n",
      "[CV] END ..metric=manhattan, n_neighbors=7, weights=distance; total time=   1.4s\n",
      "[CV] END ..metric=manhattan, n_neighbors=7, weights=distance; total time=   1.4s\n",
      "[CV] END ..metric=manhattan, n_neighbors=7, weights=distance; total time=   1.4s\n",
      "[CV] END ...metric=manhattan, n_neighbors=8, weights=uniform; total time=   1.5s\n",
      "[CV] END ...metric=manhattan, n_neighbors=8, weights=uniform; total time=   1.5s\n",
      "[CV] END ...metric=manhattan, n_neighbors=8, weights=uniform; total time=   1.5s\n",
      "[CV] END ...metric=manhattan, n_neighbors=8, weights=uniform; total time=   1.5s\n",
      "[CV] END ...metric=manhattan, n_neighbors=8, weights=uniform; total time=   1.5s\n",
      "[CV] END ..metric=manhattan, n_neighbors=8, weights=distance; total time=   1.5s\n",
      "[CV] END ..metric=manhattan, n_neighbors=8, weights=distance; total time=   1.5s\n",
      "[CV] END ..metric=manhattan, n_neighbors=8, weights=distance; total time=   1.4s\n",
      "[CV] END ..metric=manhattan, n_neighbors=8, weights=distance; total time=   1.4s\n",
      "[CV] END ..metric=manhattan, n_neighbors=8, weights=distance; total time=   1.4s\n",
      "[CV] END ...metric=manhattan, n_neighbors=9, weights=uniform; total time=   1.5s\n",
      "[CV] END ...metric=manhattan, n_neighbors=9, weights=uniform; total time=   1.6s\n",
      "[CV] END ...metric=manhattan, n_neighbors=9, weights=uniform; total time=   1.7s\n",
      "[CV] END ...metric=manhattan, n_neighbors=9, weights=uniform; total time=   1.6s\n",
      "[CV] END ...metric=manhattan, n_neighbors=9, weights=uniform; total time=   1.5s\n",
      "[CV] END ..metric=manhattan, n_neighbors=9, weights=distance; total time=   1.5s\n",
      "[CV] END ..metric=manhattan, n_neighbors=9, weights=distance; total time=   1.5s\n",
      "[CV] END ..metric=manhattan, n_neighbors=9, weights=distance; total time=   1.4s\n",
      "[CV] END ..metric=manhattan, n_neighbors=9, weights=distance; total time=   1.4s\n",
      "[CV] END ..metric=manhattan, n_neighbors=9, weights=distance; total time=   1.6s\n",
      "[CV] END ..metric=manhattan, n_neighbors=10, weights=uniform; total time=   1.7s\n",
      "[CV] END ..metric=manhattan, n_neighbors=10, weights=uniform; total time=   1.7s\n",
      "[CV] END ..metric=manhattan, n_neighbors=10, weights=uniform; total time=   1.7s\n",
      "[CV] END ..metric=manhattan, n_neighbors=10, weights=uniform; total time=   1.6s\n",
      "[CV] END ..metric=manhattan, n_neighbors=10, weights=uniform; total time=   1.7s\n",
      "[CV] END .metric=manhattan, n_neighbors=10, weights=distance; total time=   1.7s\n",
      "[CV] END .metric=manhattan, n_neighbors=10, weights=distance; total time=   1.6s\n",
      "[CV] END .metric=manhattan, n_neighbors=10, weights=distance; total time=   1.5s\n",
      "[CV] END .metric=manhattan, n_neighbors=10, weights=distance; total time=   1.6s\n",
      "[CV] END .metric=manhattan, n_neighbors=10, weights=distance; total time=   1.5s\n",
      "[CV] END ......metric=cosine, n_neighbors=1, weights=uniform; total time=   1.1s\n",
      "[CV] END ......metric=cosine, n_neighbors=1, weights=uniform; total time=   1.1s\n",
      "[CV] END ......metric=cosine, n_neighbors=1, weights=uniform; total time=   1.1s\n",
      "[CV] END ......metric=cosine, n_neighbors=1, weights=uniform; total time=   1.1s\n",
      "[CV] END ......metric=cosine, n_neighbors=1, weights=uniform; total time=   1.1s\n",
      "[CV] END .....metric=cosine, n_neighbors=1, weights=distance; total time=   1.0s\n",
      "[CV] END .....metric=cosine, n_neighbors=1, weights=distance; total time=   1.0s\n",
      "[CV] END .....metric=cosine, n_neighbors=1, weights=distance; total time=   1.0s\n",
      "[CV] END .....metric=cosine, n_neighbors=1, weights=distance; total time=   1.0s\n",
      "[CV] END .....metric=cosine, n_neighbors=1, weights=distance; total time=   1.0s\n",
      "[CV] END ......metric=cosine, n_neighbors=2, weights=uniform; total time=   1.3s\n",
      "[CV] END ......metric=cosine, n_neighbors=2, weights=uniform; total time=   1.3s\n",
      "[CV] END ......metric=cosine, n_neighbors=2, weights=uniform; total time=   1.3s\n",
      "[CV] END ......metric=cosine, n_neighbors=2, weights=uniform; total time=   1.3s\n",
      "[CV] END ......metric=cosine, n_neighbors=2, weights=uniform; total time=   1.3s\n",
      "[CV] END .....metric=cosine, n_neighbors=2, weights=distance; total time=   1.1s\n",
      "[CV] END .....metric=cosine, n_neighbors=2, weights=distance; total time=   1.2s\n",
      "[CV] END .....metric=cosine, n_neighbors=2, weights=distance; total time=   1.2s\n",
      "[CV] END .....metric=cosine, n_neighbors=2, weights=distance; total time=   1.2s\n",
      "[CV] END .....metric=cosine, n_neighbors=2, weights=distance; total time=   1.2s\n",
      "[CV] END ......metric=cosine, n_neighbors=3, weights=uniform; total time=   1.5s\n",
      "[CV] END ......metric=cosine, n_neighbors=3, weights=uniform; total time=   1.4s\n",
      "[CV] END ......metric=cosine, n_neighbors=3, weights=uniform; total time=   1.4s\n",
      "[CV] END ......metric=cosine, n_neighbors=3, weights=uniform; total time=   1.4s\n",
      "[CV] END ......metric=cosine, n_neighbors=3, weights=uniform; total time=   1.4s\n",
      "[CV] END .....metric=cosine, n_neighbors=3, weights=distance; total time=   1.3s\n",
      "[CV] END .....metric=cosine, n_neighbors=3, weights=distance; total time=   1.3s\n",
      "[CV] END .....metric=cosine, n_neighbors=3, weights=distance; total time=   1.3s\n",
      "[CV] END .....metric=cosine, n_neighbors=3, weights=distance; total time=   1.3s\n",
      "[CV] END .....metric=cosine, n_neighbors=3, weights=distance; total time=   1.3s\n",
      "[CV] END ......metric=cosine, n_neighbors=4, weights=uniform; total time=   1.7s\n",
      "[CV] END ......metric=cosine, n_neighbors=4, weights=uniform; total time=   1.7s\n",
      "[CV] END ......metric=cosine, n_neighbors=4, weights=uniform; total time=   1.7s\n",
      "[CV] END ......metric=cosine, n_neighbors=4, weights=uniform; total time=   1.7s\n",
      "[CV] END ......metric=cosine, n_neighbors=4, weights=uniform; total time=   1.7s\n",
      "[CV] END .....metric=cosine, n_neighbors=4, weights=distance; total time=   1.6s\n",
      "[CV] END .....metric=cosine, n_neighbors=4, weights=distance; total time=   1.6s\n",
      "[CV] END .....metric=cosine, n_neighbors=4, weights=distance; total time=   1.6s\n",
      "[CV] END .....metric=cosine, n_neighbors=4, weights=distance; total time=   1.6s\n",
      "[CV] END .....metric=cosine, n_neighbors=4, weights=distance; total time=   1.6s\n",
      "[CV] END ......metric=cosine, n_neighbors=5, weights=uniform; total time=   1.7s\n",
      "[CV] END ......metric=cosine, n_neighbors=5, weights=uniform; total time=   1.7s\n",
      "[CV] END ......metric=cosine, n_neighbors=5, weights=uniform; total time=   1.7s\n",
      "[CV] END ......metric=cosine, n_neighbors=5, weights=uniform; total time=   1.7s\n",
      "[CV] END ......metric=cosine, n_neighbors=5, weights=uniform; total time=   1.8s\n",
      "[CV] END .....metric=cosine, n_neighbors=5, weights=distance; total time=   1.6s\n",
      "[CV] END .....metric=cosine, n_neighbors=5, weights=distance; total time=   1.6s\n",
      "[CV] END .....metric=cosine, n_neighbors=5, weights=distance; total time=   1.6s\n",
      "[CV] END .....metric=cosine, n_neighbors=5, weights=distance; total time=   1.6s\n",
      "[CV] END .....metric=cosine, n_neighbors=5, weights=distance; total time=   1.6s\n",
      "[CV] END ......metric=cosine, n_neighbors=6, weights=uniform; total time=   1.7s\n",
      "[CV] END ......metric=cosine, n_neighbors=6, weights=uniform; total time=   1.7s\n",
      "[CV] END ......metric=cosine, n_neighbors=6, weights=uniform; total time=   1.7s\n",
      "[CV] END ......metric=cosine, n_neighbors=6, weights=uniform; total time=   1.7s\n",
      "[CV] END ......metric=cosine, n_neighbors=6, weights=uniform; total time=   1.7s\n",
      "[CV] END .....metric=cosine, n_neighbors=6, weights=distance; total time=   1.6s\n",
      "[CV] END .....metric=cosine, n_neighbors=6, weights=distance; total time=   1.6s\n",
      "[CV] END .....metric=cosine, n_neighbors=6, weights=distance; total time=   1.6s\n",
      "[CV] END .....metric=cosine, n_neighbors=6, weights=distance; total time=   1.6s\n",
      "[CV] END .....metric=cosine, n_neighbors=6, weights=distance; total time=   1.6s\n",
      "[CV] END ......metric=cosine, n_neighbors=7, weights=uniform; total time=   1.7s\n",
      "[CV] END ......metric=cosine, n_neighbors=7, weights=uniform; total time=   1.7s\n",
      "[CV] END ......metric=cosine, n_neighbors=7, weights=uniform; total time=   1.7s\n",
      "[CV] END ......metric=cosine, n_neighbors=7, weights=uniform; total time=   1.7s\n",
      "[CV] END ......metric=cosine, n_neighbors=7, weights=uniform; total time=   1.7s\n",
      "[CV] END .....metric=cosine, n_neighbors=7, weights=distance; total time=   1.6s\n",
      "[CV] END .....metric=cosine, n_neighbors=7, weights=distance; total time=   1.5s\n",
      "[CV] END .....metric=cosine, n_neighbors=7, weights=distance; total time=   1.6s\n",
      "[CV] END .....metric=cosine, n_neighbors=7, weights=distance; total time=   1.6s\n",
      "[CV] END .....metric=cosine, n_neighbors=7, weights=distance; total time=   1.7s\n",
      "[CV] END ......metric=cosine, n_neighbors=8, weights=uniform; total time=   1.7s\n",
      "[CV] END ......metric=cosine, n_neighbors=8, weights=uniform; total time=   1.7s\n",
      "[CV] END ......metric=cosine, n_neighbors=8, weights=uniform; total time=   1.7s\n",
      "[CV] END ......metric=cosine, n_neighbors=8, weights=uniform; total time=   1.7s\n",
      "[CV] END ......metric=cosine, n_neighbors=8, weights=uniform; total time=   1.6s\n",
      "[CV] END .....metric=cosine, n_neighbors=8, weights=distance; total time=   1.6s\n",
      "[CV] END .....metric=cosine, n_neighbors=8, weights=distance; total time=   1.5s\n",
      "[CV] END .....metric=cosine, n_neighbors=8, weights=distance; total time=   1.6s\n",
      "[CV] END .....metric=cosine, n_neighbors=8, weights=distance; total time=   1.6s\n",
      "[CV] END .....metric=cosine, n_neighbors=8, weights=distance; total time=   1.6s\n",
      "[CV] END ......metric=cosine, n_neighbors=9, weights=uniform; total time=   1.7s\n",
      "[CV] END ......metric=cosine, n_neighbors=9, weights=uniform; total time=   1.7s\n",
      "[CV] END ......metric=cosine, n_neighbors=9, weights=uniform; total time=   1.7s\n",
      "[CV] END ......metric=cosine, n_neighbors=9, weights=uniform; total time=   1.7s\n",
      "[CV] END ......metric=cosine, n_neighbors=9, weights=uniform; total time=   1.7s\n",
      "[CV] END .....metric=cosine, n_neighbors=9, weights=distance; total time=   1.6s\n",
      "[CV] END .....metric=cosine, n_neighbors=9, weights=distance; total time=   1.6s\n",
      "[CV] END .....metric=cosine, n_neighbors=9, weights=distance; total time=   1.6s\n",
      "[CV] END .....metric=cosine, n_neighbors=9, weights=distance; total time=   1.6s\n",
      "[CV] END .....metric=cosine, n_neighbors=9, weights=distance; total time=   1.6s\n",
      "[CV] END .....metric=cosine, n_neighbors=10, weights=uniform; total time=   1.7s\n",
      "[CV] END .....metric=cosine, n_neighbors=10, weights=uniform; total time=   1.7s\n",
      "[CV] END .....metric=cosine, n_neighbors=10, weights=uniform; total time=   1.7s\n",
      "[CV] END .....metric=cosine, n_neighbors=10, weights=uniform; total time=   1.7s\n",
      "[CV] END .....metric=cosine, n_neighbors=10, weights=uniform; total time=   1.7s\n",
      "[CV] END ....metric=cosine, n_neighbors=10, weights=distance; total time=   1.6s\n",
      "[CV] END ....metric=cosine, n_neighbors=10, weights=distance; total time=   1.6s\n",
      "[CV] END ....metric=cosine, n_neighbors=10, weights=distance; total time=   1.6s\n",
      "[CV] END ....metric=cosine, n_neighbors=10, weights=distance; total time=   1.6s\n",
      "[CV] END ....metric=cosine, n_neighbors=10, weights=distance; total time=   1.6s\n"
     ]
    },
    {
     "data": {
      "text/plain": [
       "GridSearchCV(cv=5, estimator=KNeighborsClassifier(),\n",
       "             param_grid=[{'metric': ['euclidean', 'manhattan', 'cosine'],\n",
       "                          'n_neighbors': range(1, 11),\n",
       "                          'weights': ['uniform', 'distance']}],\n",
       "             verbose=2)"
      ]
     },
     "execution_count": 43,
     "metadata": {},
     "output_type": "execute_result"
    }
   ],
   "source": [
    "from sklearn.model_selection import GridSearchCV\n",
    "\n",
    "param_grid = [{\n",
    "    'weights': [\"uniform\", \"distance\"],\n",
    "    'n_neighbors': range(1, 11),\n",
    "    'metric':['euclidean', 'manhattan', 'cosine']}]\n",
    "\n",
    "knn_clf = KNeighborsClassifier()\n",
    "grid_search = GridSearchCV(knn_clf, param_grid, cv=5, verbose=2)\n",
    "grid_search.fit(xs_train, ys_train)"
   ]
  },
  {
   "cell_type": "markdown",
   "id": "60ea1186-5b1d-42f2-96a8-0972d844e331",
   "metadata": {},
   "source": [
    "the best hyper-parameter values found by the cross-validation"
   ]
  },
  {
   "cell_type": "code",
   "execution_count": 44,
   "id": "81dffbee-4fd5-4fc2-ae81-0a156c141112",
   "metadata": {},
   "outputs": [
    {
     "data": {
      "text/plain": [
       "KNeighborsClassifier(metric='cosine', n_neighbors=10)"
      ]
     },
     "execution_count": 44,
     "metadata": {},
     "output_type": "execute_result"
    }
   ],
   "source": [
    "grid_search.best_estimator_"
   ]
  },
  {
   "cell_type": "markdown",
   "id": "bfa5e932-87e4-4d80-8875-961cc7e13080",
   "metadata": {},
   "source": [
    "hyper-parameters on the test set"
   ]
  },
  {
   "cell_type": "code",
   "execution_count": 37,
   "id": "afd49acd-02db-42af-a68e-9dc8bc3f9e4b",
   "metadata": {},
   "outputs": [
    {
     "name": "stdout",
     "output_type": "stream",
     "text": [
      "Train accuracy of kNN 0.8585234342596433\n",
      "Test accuracy of kNN 0.8283012607830126\n"
     ]
    }
   ],
   "source": [
    "knn_clf = KNeighborsClassifier(metric='cosine', n_neighbors=10)\n",
    "\n",
    "knn_clf.fit(xs_train, ys_train)\n",
    "\n",
    "ys_train_pred = knn_clf.predict(xs_train)\n",
    "ys_test_pred = knn_clf.predict(xs_test)\n",
    "\n",
    "print('Train accuracy of kNN', accuracy(ys_train, ys_train_pred))\n",
    "print('Test accuracy of kNN', accuracy(ys_test, ys_test_pred))"
   ]
  },
  {
   "cell_type": "code",
   "execution_count": null,
   "outputs": [],
   "source": [],
   "metadata": {
    "collapsed": false
   }
  }
 ],
 "metadata": {
  "kernelspec": {
   "display_name": "Python 3 (ipykernel)",
   "language": "python",
   "name": "python3"
  },
  "language_info": {
   "codemirror_mode": {
    "name": "ipython",
    "version": 3
   },
   "file_extension": ".py",
   "mimetype": "text/x-python",
   "name": "python",
   "nbconvert_exporter": "python",
   "pygments_lexer": "ipython3",
   "version": "3.9.12"
  }
 },
 "nbformat": 4,
 "nbformat_minor": 5
}
